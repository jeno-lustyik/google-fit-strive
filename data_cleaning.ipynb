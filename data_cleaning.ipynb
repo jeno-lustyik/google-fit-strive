{
 "cells": [
  {
   "cell_type": "code",
   "execution_count": 136,
   "metadata": {},
   "outputs": [],
   "source": [
    "import pandas as pd\n",
    "import seaborn as sb \n",
    "import matplotlib.pyplot as plt\n",
    "import numpy as np\n",
    "\n",
    "from sklearn.tree        import DecisionTreeClassifier\n",
    "from sklearn.ensemble    import RandomForestClassifier\n",
    "from sklearn.svm         import SVC \n",
    "\n",
    "from sklearn.model_selection import train_test_split\n",
    "from sklearn.model_selection import GridSearchCV"
   ]
  },
  {
   "cell_type": "code",
   "execution_count": 137,
   "metadata": {},
   "outputs": [],
   "source": [
    "\"\"\" Reading the CSV files \"\"\"\n",
    "data = pd.read_csv('dataset_halfSecondWindow.csv')\n",
    "# data.head(4)"
   ]
  },
  {
   "cell_type": "code",
   "execution_count": 138,
   "metadata": {},
   "outputs": [
    {
     "data": {
      "text/html": [
       "<div>\n",
       "<style scoped>\n",
       "    .dataframe tbody tr th:only-of-type {\n",
       "        vertical-align: middle;\n",
       "    }\n",
       "\n",
       "    .dataframe tbody tr th {\n",
       "        vertical-align: top;\n",
       "    }\n",
       "\n",
       "    .dataframe thead th {\n",
       "        text-align: right;\n",
       "    }\n",
       "</style>\n",
       "<table border=\"1\" class=\"dataframe\">\n",
       "  <thead>\n",
       "    <tr style=\"text-align: right;\">\n",
       "      <th></th>\n",
       "      <th>activityrecognition#1</th>\n",
       "      <th>android.sensor.accelerometer#mean</th>\n",
       "      <th>sound#mean</th>\n",
       "      <th>android.sensor.orientation#mean</th>\n",
       "      <th>android.sensor.linear_acceleration#mean</th>\n",
       "      <th>speed#mean</th>\n",
       "      <th>android.sensor.gyroscope#mean</th>\n",
       "      <th>android.sensor.rotation_vector#mean</th>\n",
       "      <th>android.sensor.game_rotation_vector#mean</th>\n",
       "      <th>android.sensor.gyroscope_uncalibrated#mean</th>\n",
       "      <th>target</th>\n",
       "    </tr>\n",
       "  </thead>\n",
       "  <tbody>\n",
       "    <tr>\n",
       "      <th>0</th>\n",
       "      <td>62.0</td>\n",
       "      <td>10.053802</td>\n",
       "      <td>NaN</td>\n",
       "      <td>69.212414</td>\n",
       "      <td>3.955144</td>\n",
       "      <td>NaN</td>\n",
       "      <td>3.268103</td>\n",
       "      <td>0.551880</td>\n",
       "      <td>0.629076</td>\n",
       "      <td>3.278420</td>\n",
       "      <td>Bus</td>\n",
       "    </tr>\n",
       "    <tr>\n",
       "      <th>1</th>\n",
       "      <td>62.0</td>\n",
       "      <td>10.687402</td>\n",
       "      <td>NaN</td>\n",
       "      <td>147.052105</td>\n",
       "      <td>4.679740</td>\n",
       "      <td>NaN</td>\n",
       "      <td>3.388659</td>\n",
       "      <td>0.943359</td>\n",
       "      <td>0.577839</td>\n",
       "      <td>3.401418</td>\n",
       "      <td>Bus</td>\n",
       "    </tr>\n",
       "    <tr>\n",
       "      <th>2</th>\n",
       "      <td>62.0</td>\n",
       "      <td>11.816800</td>\n",
       "      <td>NaN</td>\n",
       "      <td>138.203285</td>\n",
       "      <td>4.248316</td>\n",
       "      <td>NaN</td>\n",
       "      <td>2.458691</td>\n",
       "      <td>0.943879</td>\n",
       "      <td>0.651511</td>\n",
       "      <td>2.452535</td>\n",
       "      <td>Bus</td>\n",
       "    </tr>\n",
       "    <tr>\n",
       "      <th>3</th>\n",
       "      <td>62.0</td>\n",
       "      <td>9.401312</td>\n",
       "      <td>NaN</td>\n",
       "      <td>147.486429</td>\n",
       "      <td>2.420904</td>\n",
       "      <td>NaN</td>\n",
       "      <td>1.275368</td>\n",
       "      <td>0.911758</td>\n",
       "      <td>0.713226</td>\n",
       "      <td>1.271005</td>\n",
       "      <td>Bus</td>\n",
       "    </tr>\n",
       "  </tbody>\n",
       "</table>\n",
       "</div>"
      ],
      "text/plain": [
       "   activityrecognition#1  android.sensor.accelerometer#mean  sound#mean  \\\n",
       "0                   62.0                          10.053802         NaN   \n",
       "1                   62.0                          10.687402         NaN   \n",
       "2                   62.0                          11.816800         NaN   \n",
       "3                   62.0                           9.401312         NaN   \n",
       "\n",
       "   android.sensor.orientation#mean  android.sensor.linear_acceleration#mean  \\\n",
       "0                        69.212414                                 3.955144   \n",
       "1                       147.052105                                 4.679740   \n",
       "2                       138.203285                                 4.248316   \n",
       "3                       147.486429                                 2.420904   \n",
       "\n",
       "   speed#mean  android.sensor.gyroscope#mean  \\\n",
       "0         NaN                       3.268103   \n",
       "1         NaN                       3.388659   \n",
       "2         NaN                       2.458691   \n",
       "3         NaN                       1.275368   \n",
       "\n",
       "   android.sensor.rotation_vector#mean  \\\n",
       "0                             0.551880   \n",
       "1                             0.943359   \n",
       "2                             0.943879   \n",
       "3                             0.911758   \n",
       "\n",
       "   android.sensor.game_rotation_vector#mean  \\\n",
       "0                                  0.629076   \n",
       "1                                  0.577839   \n",
       "2                                  0.651511   \n",
       "3                                  0.713226   \n",
       "\n",
       "   android.sensor.gyroscope_uncalibrated#mean target  \n",
       "0                                    3.278420    Bus  \n",
       "1                                    3.401418    Bus  \n",
       "2                                    2.452535    Bus  \n",
       "3                                    1.271005    Bus  "
      ]
     },
     "execution_count": 138,
     "metadata": {},
     "output_type": "execute_result"
    }
   ],
   "source": [
    "new_columns_names = [  'activityrecognition#1',  'android.sensor.accelerometer#mean', 'sound#mean',  'android.sensor.orientation#mean',  'android.sensor.linear_acceleration#mean', 'speed#mean',     'android.sensor.gyroscope#mean',  'android.sensor.rotation_vector#mean',  'android.sensor.game_rotation_vector#mean', 'android.sensor.gyroscope_uncalibrated#mean',   'target']\n",
    "df = data[new_columns_names]\n",
    "df.head(4)"
   ]
  },
  {
   "cell_type": "code",
   "execution_count": 139,
   "metadata": {},
   "outputs": [],
   "source": [
    "# data_Bus       = df[df.target == 'Bus']\n",
    "# data_Car       = df[df.target == 'Car']\n",
    "# data_Still     = df[df.target == 'Still']\n",
    "# data_Train     = df[df.target == 'Train']\n",
    "# data_Walking   = df[df.target == 'Walking']"
   ]
  },
  {
   "cell_type": "markdown",
   "metadata": {},
   "source": [
    "# BUS"
   ]
  },
  {
   "cell_type": "code",
   "execution_count": 140,
   "metadata": {},
   "outputs": [],
   "source": [
    "# \"\"\" BEFORE \"\"\"\n",
    "\n",
    "# plt.figure(figsize=(23,8))\n",
    "# fig = sb.heatmap(data_Bus.isna(), cmap=\"YlGnBu\", cbar_kws={'label': 'Missing Data'})"
   ]
  },
  {
   "cell_type": "code",
   "execution_count": 141,
   "metadata": {},
   "outputs": [],
   "source": [
    "# data_Bus['activityrecognition#1']                    =  data_Bus['activityrecognition#1'].interpolate()\n",
    "# data_Bus['android.sensor.accelerometer#mean']        =  data_Bus['android.sensor.accelerometer#mean'].interpolate()\n",
    "# data_Bus['sound#mean']                               =  data_Bus['sound#mean'].interpolate()\n",
    "# data_Bus['android.sensor.orientation#mean']          =  data_Bus['android.sensor.orientation#mean'].interpolate()\n",
    "# data_Bus['android.sensor.linear_acceleration#mean']  =  data_Bus['android.sensor.linear_acceleration#mean'].interpolate()\n",
    "# data_Bus['speed#mean']                               =  data_Bus['speed#mean'].interpolate()\n",
    "# data_Bus['android.sensor.gyroscope#mean']            =  data_Bus['android.sensor.gyroscope#mean'].interpolate()\n",
    "# data_Bus['android.sensor.rotation_vector#mean']      =  data_Bus['android.sensor.rotation_vector#mean'].interpolate()\n",
    "# data_Bus['android.sensor.game_rotation_vector#mean'] =  data_Bus['android.sensor.game_rotation_vector#mean'].interpolate()\n",
    "# data_Bus['android.sensor.gyroscope_uncalibrated#mean'] = data_Bus['android.sensor.gyroscope_uncalibrated#mean'].interpolate() "
   ]
  },
  {
   "cell_type": "code",
   "execution_count": 142,
   "metadata": {},
   "outputs": [],
   "source": [
    "# \"\"\" AFTER \"\"\"\n",
    "\n",
    "# plt.figure(figsize=(23,8))\n",
    "# fig = sb.heatmap(data_Bus.isna(), cmap=\"YlGnBu\", cbar_kws={'label': 'Missing Data'})"
   ]
  },
  {
   "cell_type": "markdown",
   "metadata": {},
   "source": [
    "# CAR"
   ]
  },
  {
   "cell_type": "code",
   "execution_count": 143,
   "metadata": {},
   "outputs": [],
   "source": [
    "# \"\"\" BEFORE \"\"\"\n",
    "\n",
    "# plt.figure(figsize=(23,8))\n",
    "# fig = sb.heatmap(data_Car.isna(), cmap=\"YlGnBu\", cbar_kws={'label': 'Missing Data'})"
   ]
  },
  {
   "cell_type": "code",
   "execution_count": 144,
   "metadata": {},
   "outputs": [],
   "source": [
    "# data_Car['activityrecognition#1']                    =  data_Car['activityrecognition#1'].interpolate()\n",
    "# data_Car['android.sensor.accelerometer#mean']        =  data_Car['android.sensor.accelerometer#mean'].interpolate()\n",
    "# data_Car['sound#mean']                               =  data_Car['sound#mean'].interpolate()\n",
    "# data_Car['android.sensor.orientation#mean']          =  data_Car['android.sensor.orientation#mean'].interpolate()\n",
    "# data_Car['android.sensor.linear_acceleration#mean']  =  data_Car['android.sensor.linear_acceleration#mean'].interpolate()\n",
    "# data_Car['speed#mean']                               =  data_Car['speed#mean'].interpolate()\n",
    "# data_Car['android.sensor.gyroscope#mean']            =  data_Car['android.sensor.gyroscope#mean'].interpolate()\n",
    "# data_Car['android.sensor.rotation_vector#mean']      =  data_Car['android.sensor.rotation_vector#mean'].interpolate()\n",
    "# data_Car['android.sensor.game_rotation_vector#mean'] =  data_Car['android.sensor.game_rotation_vector#mean'].interpolate()\n",
    "# data_Car['android.sensor.gyroscope_uncalibrated#mean'] = data_Car['android.sensor.gyroscope_uncalibrated#mean'].interpolate() "
   ]
  },
  {
   "cell_type": "code",
   "execution_count": 145,
   "metadata": {},
   "outputs": [],
   "source": [
    "# \"\"\" AFTER \"\"\"\n",
    "\n",
    "# plt.figure(figsize=(23,8))\n",
    "# fig = sb.heatmap(data_Car.isna(), cmap=\"YlGnBu\", cbar_kws={'label': 'Missing Data'})"
   ]
  },
  {
   "cell_type": "markdown",
   "metadata": {},
   "source": [
    "# STILL"
   ]
  },
  {
   "cell_type": "code",
   "execution_count": 146,
   "metadata": {},
   "outputs": [],
   "source": [
    "# \"\"\" BEFORE \"\"\"\n",
    "\n",
    "# plt.figure(figsize=(23,8))\n",
    "# fig = sb.heatmap(data_Still.isna(), cmap=\"YlGnBu\", cbar_kws={'label': 'Missing Data'})"
   ]
  },
  {
   "cell_type": "code",
   "execution_count": 147,
   "metadata": {},
   "outputs": [],
   "source": [
    "# data_Still['activityrecognition#1']                    =  data_Still['activityrecognition#1'].interpolate()\n",
    "# data_Still['android.sensor.accelerometer#mean']        =  data_Still['android.sensor.accelerometer#mean'].interpolate()\n",
    "# data_Still['sound#mean']                               =  data_Still['sound#mean'].interpolate()\n",
    "# data_Still['android.sensor.orientation#mean']          =  data_Still['android.sensor.orientation#mean'].interpolate()\n",
    "# data_Still['android.sensor.linear_acceleration#mean']  =  data_Still['android.sensor.linear_acceleration#mean'].interpolate()\n",
    "# data_Still['speed#mean']                               =  data_Still['speed#mean'].interpolate()\n",
    "# data_Still['android.sensor.gyroscope#mean']            =  data_Still['android.sensor.gyroscope#mean'].interpolate()\n",
    "# data_Still['android.sensor.rotation_vector#mean']      =  data_Still['android.sensor.rotation_vector#mean'].interpolate()\n",
    "# data_Still['android.sensor.game_rotation_vector#mean'] =  data_Still['android.sensor.game_rotation_vector#mean'].interpolate()\n",
    "# data_Still['android.sensor.gyroscope_uncalibrated#mean'] = data_Still['android.sensor.gyroscope_uncalibrated#mean'].interpolate() "
   ]
  },
  {
   "cell_type": "code",
   "execution_count": 148,
   "metadata": {},
   "outputs": [],
   "source": [
    "# \"\"\" AFTER \"\"\"\n",
    "\n",
    "# plt.figure(figsize=(23,8))\n",
    "# fig = sb.heatmap(data_Still.isna(), cmap=\"YlGnBu\", cbar_kws={'label': 'Missing Data'})"
   ]
  },
  {
   "cell_type": "markdown",
   "metadata": {},
   "source": [
    "# TRAIN"
   ]
  },
  {
   "cell_type": "code",
   "execution_count": 149,
   "metadata": {},
   "outputs": [],
   "source": [
    "# \"\"\" BEFORE \"\"\"\n",
    "\n",
    "# plt.figure(figsize=(23,8))\n",
    "# fig = sb.heatmap(data_Train.isna(), cmap=\"YlGnBu\", cbar_kws={'label': 'Missing Data'})"
   ]
  },
  {
   "cell_type": "code",
   "execution_count": 150,
   "metadata": {},
   "outputs": [],
   "source": [
    "# data_Train['activityrecognition#1']                    =  data_Train['activityrecognition#1'].interpolate()\n",
    "# data_Train['android.sensor.accelerometer#mean']        =  data_Train['android.sensor.accelerometer#mean'].interpolate()\n",
    "# data_Train['sound#mean']                               =  data_Train['sound#mean'].interpolate()\n",
    "# data_Train['android.sensor.orientation#mean']          =  data_Train['android.sensor.orientation#mean'].interpolate()\n",
    "# data_Train['android.sensor.linear_acceleration#mean']  =  data_Train['android.sensor.linear_acceleration#mean'].interpolate()\n",
    "# data_Train['speed#mean']                               =  data_Train['speed#mean'].interpolate()\n",
    "# data_Train['android.sensor.gyroscope#mean']            =  data_Train['android.sensor.gyroscope#mean'].interpolate()\n",
    "# data_Train['android.sensor.rotation_vector#mean']      =  data_Train['android.sensor.rotation_vector#mean'].interpolate()\n",
    "# data_Train['android.sensor.game_rotation_vector#mean'] =  data_Train['android.sensor.game_rotation_vector#mean'].interpolate()\n",
    "# data_Train['android.sensor.gyroscope_uncalibrated#mean'] = data_Train['android.sensor.gyroscope_uncalibrated#mean'].interpolate() "
   ]
  },
  {
   "cell_type": "code",
   "execution_count": 151,
   "metadata": {},
   "outputs": [],
   "source": [
    "# \"\"\" AFTER \"\"\"\n",
    "\n",
    "# plt.figure(figsize=(23,8))\n",
    "# fig = sb.heatmap(data_Train.isna(), cmap=\"YlGnBu\", cbar_kws={'label': 'Missing Data'})"
   ]
  },
  {
   "cell_type": "markdown",
   "metadata": {},
   "source": [
    "# WALKING"
   ]
  },
  {
   "cell_type": "code",
   "execution_count": 152,
   "metadata": {},
   "outputs": [],
   "source": [
    "# \"\"\" BEFORE \"\"\"\n",
    "\n",
    "# plt.figure(figsize=(23,8))\n",
    "# fig = sb.heatmap(data_Walking.isna(), cmap=\"YlGnBu\", cbar_kws={'label': 'Missing Data'})"
   ]
  },
  {
   "cell_type": "code",
   "execution_count": 153,
   "metadata": {},
   "outputs": [],
   "source": [
    "# data_Walking['activityrecognition#1']                    =  data_Walking['activityrecognition#1'].interpolate()\n",
    "# data_Walking['android.sensor.accelerometer#mean']        =  data_Walking['android.sensor.accelerometer#mean'].interpolate()\n",
    "# data_Walking['sound#mean']                               =  data_Walking['sound#mean'].interpolate()\n",
    "# data_Walking['android.sensor.orientation#mean']          =  data_Walking['android.sensor.orientation#mean'].interpolate()\n",
    "# data_Walking['android.sensor.linear_acceleration#mean']  =  data_Walking['android.sensor.linear_acceleration#mean'].interpolate()\n",
    "# data_Walking['speed#mean']                               =  data_Walking['speed#mean'].interpolate()\n",
    "# data_Walking['android.sensor.gyroscope#mean']            =  data_Walking['android.sensor.gyroscope#mean'].interpolate()\n",
    "# data_Walking['android.sensor.rotation_vector#mean']      =  data_Walking['android.sensor.rotation_vector#mean'].interpolate()\n",
    "# data_Walking['android.sensor.game_rotation_vector#mean'] =  data_Walking['android.sensor.game_rotation_vector#mean'].interpolate()\n",
    "# data_Walking['android.sensor.gyroscope_uncalibrated#mean'] = data_Walking['android.sensor.gyroscope_uncalibrated#mean'].interpolate() \n"
   ]
  },
  {
   "cell_type": "code",
   "execution_count": 154,
   "metadata": {},
   "outputs": [],
   "source": [
    "# \"\"\" AFTER \"\"\"\n",
    "\n",
    "# plt.figure(figsize=(23,8))\n",
    "# fig = sb.heatmap(data_Walking.isna(), cmap=\"YlGnBu\", cbar_kws={'label': 'Missing Data'})"
   ]
  },
  {
   "cell_type": "code",
   "execution_count": 155,
   "metadata": {},
   "outputs": [
    {
     "data": {
      "text/html": [
       "<div>\n",
       "<style scoped>\n",
       "    .dataframe tbody tr th:only-of-type {\n",
       "        vertical-align: middle;\n",
       "    }\n",
       "\n",
       "    .dataframe tbody tr th {\n",
       "        vertical-align: top;\n",
       "    }\n",
       "\n",
       "    .dataframe thead th {\n",
       "        text-align: right;\n",
       "    }\n",
       "</style>\n",
       "<table border=\"1\" class=\"dataframe\">\n",
       "  <thead>\n",
       "    <tr style=\"text-align: right;\">\n",
       "      <th></th>\n",
       "      <th>activityrecognition#1</th>\n",
       "      <th>android.sensor.accelerometer#mean</th>\n",
       "      <th>sound#mean</th>\n",
       "      <th>android.sensor.orientation#mean</th>\n",
       "      <th>android.sensor.linear_acceleration#mean</th>\n",
       "      <th>speed#mean</th>\n",
       "      <th>android.sensor.gyroscope#mean</th>\n",
       "      <th>android.sensor.rotation_vector#mean</th>\n",
       "      <th>android.sensor.game_rotation_vector#mean</th>\n",
       "      <th>android.sensor.gyroscope_uncalibrated#mean</th>\n",
       "      <th>target</th>\n",
       "    </tr>\n",
       "  </thead>\n",
       "  <tbody>\n",
       "    <tr>\n",
       "      <th>0</th>\n",
       "      <td>62.0</td>\n",
       "      <td>10.053802</td>\n",
       "      <td>NaN</td>\n",
       "      <td>69.212414</td>\n",
       "      <td>3.955144</td>\n",
       "      <td>NaN</td>\n",
       "      <td>3.268103</td>\n",
       "      <td>0.551880</td>\n",
       "      <td>0.629076</td>\n",
       "      <td>3.278420</td>\n",
       "      <td>Bus</td>\n",
       "    </tr>\n",
       "    <tr>\n",
       "      <th>1</th>\n",
       "      <td>62.0</td>\n",
       "      <td>10.687402</td>\n",
       "      <td>NaN</td>\n",
       "      <td>147.052105</td>\n",
       "      <td>4.679740</td>\n",
       "      <td>NaN</td>\n",
       "      <td>3.388659</td>\n",
       "      <td>0.943359</td>\n",
       "      <td>0.577839</td>\n",
       "      <td>3.401418</td>\n",
       "      <td>Bus</td>\n",
       "    </tr>\n",
       "    <tr>\n",
       "      <th>2</th>\n",
       "      <td>62.0</td>\n",
       "      <td>11.816800</td>\n",
       "      <td>NaN</td>\n",
       "      <td>138.203285</td>\n",
       "      <td>4.248316</td>\n",
       "      <td>NaN</td>\n",
       "      <td>2.458691</td>\n",
       "      <td>0.943879</td>\n",
       "      <td>0.651511</td>\n",
       "      <td>2.452535</td>\n",
       "      <td>Bus</td>\n",
       "    </tr>\n",
       "    <tr>\n",
       "      <th>3</th>\n",
       "      <td>62.0</td>\n",
       "      <td>9.401312</td>\n",
       "      <td>NaN</td>\n",
       "      <td>147.486429</td>\n",
       "      <td>2.420904</td>\n",
       "      <td>NaN</td>\n",
       "      <td>1.275368</td>\n",
       "      <td>0.911758</td>\n",
       "      <td>0.713226</td>\n",
       "      <td>1.271005</td>\n",
       "      <td>Bus</td>\n",
       "    </tr>\n",
       "  </tbody>\n",
       "</table>\n",
       "</div>"
      ],
      "text/plain": [
       "   activityrecognition#1  android.sensor.accelerometer#mean  sound#mean  \\\n",
       "0                   62.0                          10.053802         NaN   \n",
       "1                   62.0                          10.687402         NaN   \n",
       "2                   62.0                          11.816800         NaN   \n",
       "3                   62.0                           9.401312         NaN   \n",
       "\n",
       "   android.sensor.orientation#mean  android.sensor.linear_acceleration#mean  \\\n",
       "0                        69.212414                                 3.955144   \n",
       "1                       147.052105                                 4.679740   \n",
       "2                       138.203285                                 4.248316   \n",
       "3                       147.486429                                 2.420904   \n",
       "\n",
       "   speed#mean  android.sensor.gyroscope#mean  \\\n",
       "0         NaN                       3.268103   \n",
       "1         NaN                       3.388659   \n",
       "2         NaN                       2.458691   \n",
       "3         NaN                       1.275368   \n",
       "\n",
       "   android.sensor.rotation_vector#mean  \\\n",
       "0                             0.551880   \n",
       "1                             0.943359   \n",
       "2                             0.943879   \n",
       "3                             0.911758   \n",
       "\n",
       "   android.sensor.game_rotation_vector#mean  \\\n",
       "0                                  0.629076   \n",
       "1                                  0.577839   \n",
       "2                                  0.651511   \n",
       "3                                  0.713226   \n",
       "\n",
       "   android.sensor.gyroscope_uncalibrated#mean target  \n",
       "0                                    3.278420    Bus  \n",
       "1                                    3.401418    Bus  \n",
       "2                                    2.452535    Bus  \n",
       "3                                    1.271005    Bus  "
      ]
     },
     "execution_count": 155,
     "metadata": {},
     "output_type": "execute_result"
    }
   ],
   "source": [
    "df.head(4)"
   ]
  },
  {
   "cell_type": "code",
   "execution_count": 156,
   "metadata": {},
   "outputs": [
    {
     "data": {
      "text/plain": [
       "(62585, 11)"
      ]
     },
     "execution_count": 156,
     "metadata": {},
     "output_type": "execute_result"
    }
   ],
   "source": [
    "df.shape"
   ]
  },
  {
   "cell_type": "code",
   "execution_count": 157,
   "metadata": {},
   "outputs": [
    {
     "data": {
      "text/plain": [
       "(25250, 11)"
      ]
     },
     "execution_count": 157,
     "metadata": {},
     "output_type": "execute_result"
    }
   ],
   "source": [
    "df1 = df.dropna()\n",
    "df1.shape"
   ]
  },
  {
   "cell_type": "code",
   "execution_count": 158,
   "metadata": {},
   "outputs": [],
   "source": [
    "# plt.figure(figsize=(23,8))\n",
    "# fig = sb.heatmap(df1.isna(), cmap=\"YlGnBu\", cbar_kws={'label': 'Missing Data'})"
   ]
  },
  {
   "cell_type": "code",
   "execution_count": 159,
   "metadata": {},
   "outputs": [],
   "source": [
    "# sb.heatmap(df1.corr(), cmap='YlGnBu', annot=True)"
   ]
  },
  {
   "cell_type": "code",
   "execution_count": null,
   "metadata": {},
   "outputs": [],
   "source": [
    "\n"
   ]
  },
  {
   "cell_type": "code",
   "execution_count": 160,
   "metadata": {},
   "outputs": [],
   "source": [
    "feature_columns = ['activityrecognition#1', 'android.sensor.accelerometer#mean',  'sound#mean', 'android.sensor.orientation#mean', 'android.sensor.linear_acceleration#mean', 'speed#mean', 'android.sensor.gyroscope#mean', 'android.sensor.rotation_vector#mean', 'android.sensor.game_rotation_vector#mean',  'android.sensor.gyroscope_uncalibrated#mean']  \n",
    "target_column =  'target'"
   ]
  },
  {
   "cell_type": "code",
   "execution_count": 161,
   "metadata": {},
   "outputs": [],
   "source": [
    "X = df1[feature_columns]\n",
    "y = df1[target_column]"
   ]
  },
  {
   "cell_type": "code",
   "execution_count": 162,
   "metadata": {},
   "outputs": [
    {
     "name": "stdout",
     "output_type": "stream",
     "text": [
      "20200\n",
      "20200\n",
      "5050\n",
      "5050\n"
     ]
    }
   ],
   "source": [
    "X_train_validate, X_test, y_train_validate, y_test = train_test_split(X, y, random_state=0, test_size=0.2, stratify=y) \n",
    "\n",
    "print(len(X_train_validate))\n",
    "print(len(y_train_validate))\n",
    "print(len(X_test))\n",
    "print(len(y_test))"
   ]
  },
  {
   "cell_type": "code",
   "execution_count": null,
   "metadata": {},
   "outputs": [],
   "source": []
  },
  {
   "cell_type": "code",
   "execution_count": 163,
   "metadata": {},
   "outputs": [],
   "source": [
    "# X_train_val, X_test, y_train_val, y_test = train_test_split(X, y, random_state=0, test_size=0.2, stratify=y) \n",
    "# X_train, X_validate, y_train, y_validate = train_test_split(X_train_validate, y_train_validate, random_state=0, stratify=y)"
   ]
  },
  {
   "cell_type": "code",
   "execution_count": 164,
   "metadata": {},
   "outputs": [],
   "source": [
    "# model_decision_tree = DecisionTreeClassifier()\n",
    "# model_random_forest = RandomForestClassifier()\n",
    "# model_SVC           = SVC()"
   ]
  },
  {
   "cell_type": "code",
   "execution_count": 165,
   "metadata": {},
   "outputs": [],
   "source": [
    "# param_DecisionTree  = {'max_depth'   : [3, 4, 5, 6, 7, 8, 9]}\n",
    "# param_RandomForest  = {'n_estimators': [0.001, 0.01, 0.1, 1, 10, 100, 100, 1000],    'max_depth'     : [3, 4, 5, 6, 7, 8, 9]}\n",
    "# param_SVC           = {'kernel'      : ['linear', 'rbf'],                            'C'           : [0.01, 0.1, 1, 10, 100, 1000]} "
   ]
  },
  {
   "cell_type": "code",
   "execution_count": 166,
   "metadata": {},
   "outputs": [],
   "source": [
    "# grid_search_DecisionTree = GridSearchCV(DecisionTreeClassifier(), param_DecisionTree, cv=5)\n",
    "# grid_search_RandomForest = GridSearchCV(RandomForestClassifier(), param_RandomForest, cv=5)\n",
    "# grid_search_SVC          = GridSearchCV(SVC(), param_SVC, cv=5)"
   ]
  },
  {
   "cell_type": "code",
   "execution_count": 167,
   "metadata": {},
   "outputs": [],
   "source": [
    "# grid_search_DecisionTree.fit(X_train_validate, y_train_validate)\n",
    "# grid_search_RandomForest.fit(X_train_validate, y_train_validate)\n",
    "# grid_search_SVC.fit(X_train_validate, y_train_validate)"
   ]
  },
  {
   "cell_type": "code",
   "execution_count": 168,
   "metadata": {},
   "outputs": [],
   "source": [
    "# print(f'Decision Tree    =>    Best Score : {round(grid_search_DecisionTree.best_score_ * 100, 2)}    Best Parameters :   {grid_search_DecisionTree.best_params_}  ')\n",
    "# print(f'Random Forest    =>    Best Score : {round(grid_search_RandomForest.best_score_ * 100, 2)}    Best Parameters :   {grid_search_RandomForest.best_params_}  ')\n",
    "# print(f'SVC              =>    Best Score : {round(grid_search_SVC.best_score_ * 100, 2)}    Best Parameters :   {grid_search_SVC.best_params_}  ')"
   ]
  },
  {
   "cell_type": "code",
   "execution_count": 169,
   "metadata": {},
   "outputs": [],
   "source": [
    "# Decision Tree    =>    Best Score : 94.3    Best Parameters :   {'max_depth': 9} "
   ]
  },
  {
   "cell_type": "code",
   "execution_count": 170,
   "metadata": {},
   "outputs": [],
   "source": [
    "['android.sensor.accelerometer#mean',  'sound#mean', 'android.sensor.orientation#mean', 'android.sensor.linear_acceleration#mean', 'speed#mean', 'android.sensor.gyroscope#mean', 'android.sensor.rotation_vector#mean', 'android.sensor.game_rotation_vector#mean',  'android.sensor.gyroscope_uncalibrated#mean']  \n",
    "target_column =  'target'"
   ]
  },
  {
   "cell_type": "code",
   "execution_count": 171,
   "metadata": {},
   "outputs": [],
   "source": [
    "columns_three_features = ['android.sensor.accelerometer#mean',  'sound#mean', 'android.sensor.gyroscope#mean']\n",
    "columns_eight_features = ['android.sensor.accelerometer#mean',  'sound#mean', 'android.sensor.orientation#mean', 'android.sensor.linear_acceleration#mean', 'android.sensor.gyroscope#mean', 'android.sensor.rotation_vector#mean', 'android.sensor.game_rotation_vector#mean',  'android.sensor.gyroscope_uncalibrated#mean']  \n",
    "columns_nine_features  = ['android.sensor.accelerometer#mean',  'sound#mean', 'android.sensor.orientation#mean', 'android.sensor.linear_acceleration#mean', 'speed#mean', 'android.sensor.gyroscope#mean', 'android.sensor.rotation_vector#mean', 'android.sensor.game_rotation_vector#mean',  'android.sensor.gyroscope_uncalibrated#mean']  \n",
    "\n",
    "target = 'target'"
   ]
  },
  {
   "cell_type": "code",
   "execution_count": 172,
   "metadata": {},
   "outputs": [],
   "source": [
    "X_3 = df1[columns_three_features]\n",
    "X_8 = df1[columns_eight_features]\n",
    "X_9 = df1[columns_nine_features]\n",
    "\n",
    "y = df1[target]"
   ]
  },
  {
   "cell_type": "markdown",
   "metadata": {},
   "source": [
    "# THREE FEATURES"
   ]
  },
  {
   "cell_type": "code",
   "execution_count": 173,
   "metadata": {},
   "outputs": [
    {
     "data": {
      "text/plain": [
       "SVC()"
      ]
     },
     "execution_count": 173,
     "metadata": {},
     "output_type": "execute_result"
    }
   ],
   "source": [
    "model_decision_tree_3 = DecisionTreeClassifier()\n",
    "model_random_forest_3 = RandomForestClassifier()\n",
    "model_SVC_3           = SVC()\n",
    "\n",
    "X_train_3, X_test_3, y_train_3, y_test_3 = train_test_split(X_3, y, random_state=0)\n",
    "\n",
    "model_decision_tree_3.fit(X_train_3, y_train_3)\n",
    "model_random_forest_3.fit(X_train_3, y_train_3)\n",
    "model_SVC_3.fit(X_train_3, y_train_3)\n"
   ]
  },
  {
   "cell_type": "code",
   "execution_count": 174,
   "metadata": {},
   "outputs": [],
   "source": [
    "decision_tree_score_3 = model_decision_tree_3.score(X_test_3, y_test_3)\n",
    "random_forest_score_3 = model_random_forest_3.score(X_test_3, y_test_3)\n",
    "SVC_score_3           = model_SVC_3.score(X_test_3, y_test_3)"
   ]
  },
  {
   "cell_type": "code",
   "execution_count": 175,
   "metadata": {},
   "outputs": [
    {
     "name": "stdout",
     "output_type": "stream",
     "text": [
      "Decision Tree Accuracy : 81.39\n",
      "Random Forest Accuracy : 82.16\n",
      "SVC                    : 55.0\n"
     ]
    }
   ],
   "source": [
    "print(f'Decision Tree Accuracy : {round(decision_tree_score_3 * 100, 2)}')\n",
    "print(f'Random Forest Accuracy : {round(random_forest_score_3 * 100, 2)}')\n",
    "print(f'SVC                    : {round(SVC_score_3 * 100, 2)}')"
   ]
  },
  {
   "cell_type": "markdown",
   "metadata": {},
   "source": [
    "# EIGHT FEATURES"
   ]
  },
  {
   "cell_type": "code",
   "execution_count": 176,
   "metadata": {},
   "outputs": [
    {
     "data": {
      "text/plain": [
       "SVC()"
      ]
     },
     "execution_count": 176,
     "metadata": {},
     "output_type": "execute_result"
    }
   ],
   "source": [
    "model_decision_tree_8 = DecisionTreeClassifier()\n",
    "model_random_forest_8 = RandomForestClassifier()\n",
    "model_SVC_8           = SVC()\n",
    "\n",
    "X_train_8, X_test_8, y_train_8, y_test_8 = train_test_split(X_8, y, random_state=0)\n",
    "\n",
    "model_decision_tree_8.fit(X_train_8, y_train_8)\n",
    "model_random_forest_8.fit(X_train_8, y_train_8)\n",
    "model_SVC_8.fit(X_train_8, y_train_8)"
   ]
  },
  {
   "cell_type": "code",
   "execution_count": 177,
   "metadata": {},
   "outputs": [],
   "source": [
    "decision_tree_score_8 = model_decision_tree_8.score(X_test_8, y_test_8)\n",
    "random_forest_score_8 = model_random_forest_8.score(X_test_8, y_test_8)\n",
    "SVC_score_8           = model_SVC_8.score(X_test_8, y_test_8)"
   ]
  },
  {
   "cell_type": "code",
   "execution_count": 178,
   "metadata": {},
   "outputs": [
    {
     "name": "stdout",
     "output_type": "stream",
     "text": [
      "Decision Tree Accuracy : 92.7\n",
      "Random Forest Accuracy : 96.82\n",
      "SVC                    : 63.14\n"
     ]
    }
   ],
   "source": [
    "print(f'Decision Tree Accuracy : {round(decision_tree_score_8 * 100, 2)}')\n",
    "print(f'Random Forest Accuracy : {round(random_forest_score_8 * 100, 2)}')\n",
    "print(f'SVC                    : {round(SVC_score_8 * 100, 2)}')"
   ]
  },
  {
   "cell_type": "markdown",
   "metadata": {},
   "source": [
    "# NINE FEATURES"
   ]
  },
  {
   "cell_type": "code",
   "execution_count": 179,
   "metadata": {},
   "outputs": [],
   "source": [
    "model_decision_tree_9 = DecisionTreeClassifier()\n",
    "model_random_forest_9 = RandomForestClassifier()\n",
    "model_SVC_9           = SVC()"
   ]
  },
  {
   "cell_type": "code",
   "execution_count": 180,
   "metadata": {},
   "outputs": [
    {
     "data": {
      "text/plain": [
       "SVC()"
      ]
     },
     "execution_count": 180,
     "metadata": {},
     "output_type": "execute_result"
    }
   ],
   "source": [
    "X_train_9, X_test_9, y_train_9, y_test_9 = train_test_split(X_9, y, random_state=0)\n",
    "\n",
    "model_decision_tree_9.fit(X_train_9, y_train_9)\n",
    "model_random_forest_9.fit(X_train_9, y_train_9)\n",
    "model_SVC_9.fit(X_train_9, y_train_9)"
   ]
  },
  {
   "cell_type": "code",
   "execution_count": 181,
   "metadata": {},
   "outputs": [],
   "source": [
    "decision_tree_score_9 = model_decision_tree_9.score(X_test_9, y_test_9)\n",
    "random_forest_score_9 = model_random_forest_9.score(X_test_9, y_test_9)\n",
    "SVC_score_9           = model_SVC_9.score(X_test_9, y_test_9)"
   ]
  },
  {
   "cell_type": "code",
   "execution_count": 182,
   "metadata": {},
   "outputs": [
    {
     "name": "stdout",
     "output_type": "stream",
     "text": [
      "Decision Tree Accuracy : 97.86\n",
      "Random Forest Accuracy : 99.27\n",
      "SVC                    : 75.64\n"
     ]
    }
   ],
   "source": [
    "print(f'Decision Tree Accuracy : {round(decision_tree_score_9 * 100, 2)}')\n",
    "print(f'Random Forest Accuracy : {round(random_forest_score_9 * 100, 2)}')\n",
    "print(f'SVC                    : {round(SVC_score_9 * 100, 2)}')"
   ]
  },
  {
   "cell_type": "code",
   "execution_count": 183,
   "metadata": {},
   "outputs": [],
   "source": [
    "index_columns = ['Decision Tree', 'Random Forest', 'SVC']\n",
    "\n",
    "excel = {  'Three Features' : [round(decision_tree_score_3 * 100, 2), round(random_forest_score_3 * 100, 2), round(SVC_score_3 * 100, 2)], \n",
    "           'Eight Features' : [round(decision_tree_score_8 * 100, 2), round(random_forest_score_8 * 100, 2), round(SVC_score_8 * 100, 2)], \n",
    "           'Nine Features'  : [round(decision_tree_score_9 * 100, 2), round(random_forest_score_9 * 100, 2), round(SVC_score_9 * 100, 2)], \n",
    "        }\n"
   ]
  },
  {
   "cell_type": "code",
   "execution_count": 184,
   "metadata": {},
   "outputs": [
    {
     "data": {
      "text/html": [
       "<div>\n",
       "<style scoped>\n",
       "    .dataframe tbody tr th:only-of-type {\n",
       "        vertical-align: middle;\n",
       "    }\n",
       "\n",
       "    .dataframe tbody tr th {\n",
       "        vertical-align: top;\n",
       "    }\n",
       "\n",
       "    .dataframe thead th {\n",
       "        text-align: right;\n",
       "    }\n",
       "</style>\n",
       "<table border=\"1\" class=\"dataframe\">\n",
       "  <thead>\n",
       "    <tr style=\"text-align: right;\">\n",
       "      <th></th>\n",
       "      <th>Three Features</th>\n",
       "      <th>Eight Features</th>\n",
       "      <th>Nine Features</th>\n",
       "    </tr>\n",
       "  </thead>\n",
       "  <tbody>\n",
       "    <tr>\n",
       "      <th>Decision Tree</th>\n",
       "      <td>81.39</td>\n",
       "      <td>92.70</td>\n",
       "      <td>97.86</td>\n",
       "    </tr>\n",
       "    <tr>\n",
       "      <th>Random Forest</th>\n",
       "      <td>82.16</td>\n",
       "      <td>96.82</td>\n",
       "      <td>99.27</td>\n",
       "    </tr>\n",
       "    <tr>\n",
       "      <th>SVC</th>\n",
       "      <td>55.00</td>\n",
       "      <td>63.14</td>\n",
       "      <td>75.64</td>\n",
       "    </tr>\n",
       "  </tbody>\n",
       "</table>\n",
       "</div>"
      ],
      "text/plain": [
       "               Three Features  Eight Features  Nine Features\n",
       "Decision Tree           81.39           92.70          97.86\n",
       "Random Forest           82.16           96.82          99.27\n",
       "SVC                     55.00           63.14          75.64"
      ]
     },
     "execution_count": 184,
     "metadata": {},
     "output_type": "execute_result"
    }
   ],
   "source": [
    "df_excel = pd.DataFrame(excel)\n",
    "df_excel.index = index_columns\n",
    "# df_excel.to_csv('excel_sheet.csv')\n",
    "df_excel"
   ]
  },
  {
   "cell_type": "code",
   "execution_count": 185,
   "metadata": {},
   "outputs": [],
   "source": [
    "# new_data = pd.read_csv('excel_sheet.csv')\n",
    "# # new_data['Three Features']\n",
    "# # new_data['Unnamed: 0']\n",
    "# new_data"
   ]
  },
  {
   "cell_type": "code",
   "execution_count": 195,
   "metadata": {},
   "outputs": [
    {
     "data": {
      "text/plain": [
       "<matplotlib.legend.Legend at 0x22cb53c6df0>"
      ]
     },
     "execution_count": 195,
     "metadata": {},
     "output_type": "execute_result"
    },
    {
     "data": {
      "image/png": "[encoded data removed]",
      "text/plain": [
       "<Figure size 864x576 with 1 Axes>"
      ]
     },
     "metadata": {
      "needs_background": "light"
     },
     "output_type": "display_data"
    }
   ],
   "source": [
    "\n",
    "\n",
    "plt.figure(figsize=(12, 8))\n",
    "# ax = fig.add_axes([0,0,1,1])\n",
    "\n",
    "X = np.arange(3)\n",
    "#X = np.arange(len(df_excel['Three Features']))  # Find the \n",
    "\n",
    "plt.bar(X + 0.0, df_excel['Three Features'], color = 'b', width = 0.2)\n",
    "plt.bar(X + 0.2, df_excel['Eight Features'], color = 'g', width = 0.2)\n",
    "plt.bar(X + 0.4, df_excel['Nine Features'], color = 'r', width = 0.2)\n",
    "\n",
    "plt.ylabel('Accuracy', fontsize=30)\n",
    "plt.xlabel('Model', fontsize=30)\n",
    "plt.title('A graph of the accuracy as a function of the Model', fontsize=20)\n",
    "# plt.ylim(60, 100)\n",
    "plt.xticks(X, index_columns, rotation=30, fontsize=15)\n",
    "\n",
    "\n",
    "plt.yticks(fontsize=20)\n",
    "plt.legend(labels=['Three Features', 'Eight Features', 'Nine Features'], fontsize=16)\n",
    "\n",
    "# plt.show()"
   ]
  },
  {
   "cell_type": "code",
   "execution_count": null,
   "metadata": {},
   "outputs": [],
   "source": []
  }
 ],
 "metadata": {
  "interpreter": {
   "hash": "97b91b6d5003af60c654b6abfe8ac1e5d274e52e67a717d7df64331168b10d1c"
  },
  "kernelspec": {
   "display_name": "Python 3.8.12 ('pz')",
   "language": "python",
   "name": "python3"
  },
  "language_info": {
   "codemirror_mode": {
    "name": "ipython",
    "version": 3
   },
   "file_extension": ".py",
   "mimetype": "text/x-python",
   "name": "python",
   "nbconvert_exporter": "python",
   "pygments_lexer": "ipython3",
   "version": "3.8.12"
  },
  "orig_nbformat": 4
 },
 "nbformat": 4,
 "nbformat_minor": 2
}
