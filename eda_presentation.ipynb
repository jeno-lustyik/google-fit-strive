{
 "cells": [
  {
   "cell_type": "code",
   "execution_count": 13,
   "metadata": {},
   "outputs": [],
   "source": [
    "import pandas  as pd\n",
    "import numpy   as np\n",
    "import matplotlib.pyplot as plt\n",
    "\n",
    "from sklearn.model_selection import train_test_split\n",
    "\n",
    "from sklearn.tree        import DecisionTreeClassifier\n",
    "from sklearn.ensemble    import RandomForestClassifier\n",
    "from sklearn.svm         import SVC "
   ]
  },
  {
   "cell_type": "code",
   "execution_count": 14,
   "metadata": {},
   "outputs": [],
   "source": [
    "# data = pd.read_csv('dataset_halfSecondWindow.csv')\n",
    "# data.head(3)"
   ]
  },
  {
   "cell_type": "code",
   "execution_count": 15,
   "metadata": {},
   "outputs": [],
   "source": [
    "# col_names = [ 'activityrecognition#1',  'android.sensor.accelerometer#mean',  'android.sensor.game_rotation_vector#mean', 'android.sensor.gravity#mean',   'android.sensor.gyroscope#mean',   'android.sensor.gyroscope_uncalibrated#mean',  'android.sensor.light#mean',  'android.sensor.linear_acceleration#mean', 'android.sensor.magnetic_field#mean', 'android.sensor.magnetic_field_uncalibrated#mean', 'android.sensor.orientation#mean', 'android.sensor.pressure#mean',  'android.sensor.proximity#mean', 'android.sensor.rotation_vector#mean', 'android.sensor.step_counter#mean', 'sound#mean',  'speed#mean', 'target', 'user', 'android.sensor.magnetic_field#mean']\n",
    "# columns_nine_features  = ['android.sensor.accelerometer#mean',  'sound#mean', 'android.sensor.orientation#mean', 'android.sensor.linear_acceleration#mean', 'speed#mean', 'android.sensor.gyroscope#mean', 'android.sensor.rotation_vector#mean', 'android.sensor.game_rotation_vector#mean',  'android.sensor.gyroscope_uncalibrated#mean', 'target', 'android.sensor.magnetic_field#mean', 'android.sensor.magnetic_field#mean']  \n",
    "# col_names_thirteen = [  'android.sensor.accelerometer#mean',\n",
    "#   \t                'android.sensor.magnetic_field#mean',\n",
    "#                         'android.sensor.orientation#mean', \n",
    "#                         'android.sensor.gravity#mean', \n",
    "#                         'android.sensor.linear_acceleration#mean',\n",
    "#                         'android.sensor.gyroscope#mean', \n",
    "#                         'android.sensor.rotation_vector#mean',\n",
    "#                         'android.sensor.gyroscope_uncalibrated#mean',\n",
    "#                         'android.sensor.game_rotation_vector#mean',\n",
    "#          \t        'android.sensor.magnetic_field_uncalibrated#mean',\n",
    "#                         'sound#mean', \n",
    "#                         'android.sensor.light#mean', \n",
    "#                         'speed#mean',           \n",
    "#                         'target'\n",
    "#                      ]\n"
   ]
  },
  {
   "cell_type": "code",
   "execution_count": 16,
   "metadata": {},
   "outputs": [],
   "source": [
    "# df = data[col_names_thirteen]\n",
    "# # df.head(4)\n",
    "# # missing = df.isna().sum()\n",
    "# # missing.to_csv('missing_values.csv')\n",
    "# df.shape\n"
   ]
  },
  {
   "cell_type": "code",
   "execution_count": 17,
   "metadata": {},
   "outputs": [],
   "source": [
    "# data.user.unique()"
   ]
  },
  {
   "cell_type": "code",
   "execution_count": 18,
   "metadata": {},
   "outputs": [],
   "source": [
    "# df['target'].value_counts()\n",
    "# data.target.value_counts()"
   ]
  },
  {
   "cell_type": "code",
   "execution_count": 19,
   "metadata": {},
   "outputs": [],
   "source": [
    "# df_dropna = df.dropna()\n",
    "# df_dropna.shape"
   ]
  },
  {
   "cell_type": "code",
   "execution_count": 20,
   "metadata": {},
   "outputs": [],
   "source": [
    "# df_dropna['target'].value_counts()"
   ]
  },
  {
   "cell_type": "code",
   "execution_count": 21,
   "metadata": {},
   "outputs": [],
   "source": [
    "\n",
    "# \"\"\" FINDING THE MEAN OF EACH COLUMN AS A FUNCTION OF THE USER \"\"\"\n",
    "\n",
    "# df_Walking     = df_dropna[df_dropna['target'] == 'Walking']\n",
    "# df_Train       = df_dropna[df_dropna['target'] == 'Train']\n",
    "# df_Car         = df_dropna[df_dropna['target'] == 'Car']\n",
    "# df_Bus         = df_dropna[df_dropna['target'] == 'Bus']\n",
    "# df_Still       = df_dropna[df_dropna['target'] == 'Still']\n",
    "\n",
    "\n",
    "\n",
    "# accelerometer_Walking  = round(  df_Walking['android.sensor.accelerometer#mean'].mean(), 1  )\n",
    "# accelerometer_Train    = round(  df_Train['android.sensor.accelerometer#mean'].mean(), 1  )\n",
    "# accelerometer_Car      = round(  df_Car['android.sensor.accelerometer#mean'].mean(), 1  )\n",
    "# accelerometer_Bus      = round(  df_Bus['android.sensor.accelerometer#mean'].mean(), 1  )\n",
    "# accelerometer_Still    = round(  df_Still['android.sensor.accelerometer#mean'].mean(), 1  )\n",
    "\n",
    "\n",
    "# magnetic_field_Walking  = round(  df_Walking['android.sensor.magnetic_field#mean'].mean(), 1  )\n",
    "# magnetic_field_Train    = round(  df_Train['android.sensor.magnetic_field#mean'].mean(), 1  )\n",
    "# magnetic_field_Car      = round(  df_Car['android.sensor.magnetic_field#mean'].mean(), 1  )\n",
    "# magnetic_field_Bus      = round(  df_Bus['android.sensor.magnetic_field#mean'].mean(), 1  )\n",
    "# magnetic_field_Still    = round(  df_Still['android.sensor.magnetic_field#mean'].mean(), 1  )\n",
    "\n",
    "\n",
    "# orientation_Walking  = round(  df_Walking['android.sensor.orientation#mean'].mean(), 1  )\n",
    "# orientation_Train    = round(  df_Train['android.sensor.orientation#mean'].mean(), 1  )\n",
    "# orientation_Car      = round(  df_Car['android.sensor.orientation#mean'].mean(), 1  )\n",
    "# orientation_Bus      = round(  df_Bus['android.sensor.orientation#mean'].mean(), 1  )\n",
    "# orientation_Still    = round(  df_Still['android.sensor.orientation#mean'].mean(), 1  )\n",
    "\n",
    "\n",
    "# gravity_Walking  = round(  df_Walking['android.sensor.gravity#mean'].mean(), 1  )\n",
    "# gravity_Train    = round(  df_Train['android.sensor.gravity#mean'].mean(), 1  )\n",
    "# gravity_Car      = round(  df_Car['android.sensor.gravity#mean'].mean(), 1  )\n",
    "# gravity_Bus      = round(  df_Bus['android.sensor.gravity#mean'].mean(), 1  )\n",
    "# gravity_Still    = round(  df_Still['android.sensor.gravity#mean'].mean(), 1  )\n",
    "\n",
    "\n",
    "# linear_acceleration_Walking  = round(  df_Walking['android.sensor.linear_acceleration#mean'].mean(), 1  )\n",
    "# linear_acceleration_Train    = round(  df_Train['android.sensor.linear_acceleration#mean'].mean(), 1  )\n",
    "# linear_acceleration_Car      = round(  df_Car['android.sensor.linear_acceleration#mean'].mean(), 1  )\n",
    "# linear_acceleration_Bus      = round(  df_Bus['android.sensor.linear_acceleration#mean'].mean(), 1  )\n",
    "# linear_acceleration_Still    = round(  df_Still['android.sensor.linear_acceleration#mean'].mean(), 1  )\n",
    "\n",
    "\n",
    "# gyroscope_Walking  = round(  df_Walking['android.sensor.gyroscope#mean'].mean(), 1  )\n",
    "# gyroscope_Train    = round(  df_Train['android.sensor.gyroscope#mean'].mean(), 1  )\n",
    "# gyroscope_Car      = round(  df_Car['android.sensor.gyroscope#mean'].mean(), 1  )\n",
    "# gyroscope_Bus      = round(  df_Bus['android.sensor.gyroscope#mean'].mean(), 1  )\n",
    "# gyroscope_Still    = round(  df_Still['android.sensor.gyroscope#mean'].mean(), 1  )\n",
    "\n",
    "\n",
    "# rotation_vector_Walking  = round(  df_Walking['android.sensor.rotation_vector#mean'].mean(), 1  )\n",
    "# rotation_vector_Train    = round(  df_Train['android.sensor.rotation_vector#mean'].mean(), 1  )\n",
    "# rotation_vector_Car      = round(  df_Car['android.sensor.rotation_vector#mean'].mean(), 1  )\n",
    "# rotation_vector_Bus      = round(  df_Bus['android.sensor.rotation_vector#mean'].mean(), 1  )\n",
    "# rotation_vector_Still    = round(  df_Still['android.sensor.rotation_vector#mean'].mean(), 1  )\n",
    "\n",
    "\n",
    "# gyroscope_uncalibrated_Walking  = round(  df_Walking['android.sensor.gyroscope_uncalibrated#mean'].mean(), 1  )\n",
    "# gyroscope_uncalibrated_Train    = round(  df_Train['android.sensor.gyroscope_uncalibrated#mean'].mean(), 1  )\n",
    "# gyroscope_uncalibrated_Car      = round(  df_Car['android.sensor.gyroscope_uncalibrated#mean'].mean(), 1  )\n",
    "# gyroscope_uncalibrated_Bus      = round(  df_Bus['android.sensor.gyroscope_uncalibrated#mean'].mean(), 1  )\n",
    "# gyroscope_uncalibrated_Still    = round(  df_Still['android.sensor.gyroscope_uncalibrated#mean'].mean(), 1  )\n",
    "\n",
    "\n",
    "# game_rotation_vector_Walking  = round(  df_Walking['android.sensor.game_rotation_vector#mean'].mean(), 1  )\n",
    "# game_rotation_vector_Train    = round(  df_Train['android.sensor.game_rotation_vector#mean'].mean(), 1  )\n",
    "# game_rotation_vector_Car      = round(  df_Car['android.sensor.game_rotation_vector#mean'].mean(), 1  )\n",
    "# game_rotation_vector_Bus      = round(  df_Bus['android.sensor.game_rotation_vector#mean'].mean(), 1  )\n",
    "# game_rotation_vector_Still    = round(  df_Still['android.sensor.game_rotation_vector#mean'].mean(), 1  )\n",
    "\n",
    "\n",
    "# magnetic_field_uncalibrated_Walking  = round(  df_Walking['android.sensor.magnetic_field_uncalibrated#mean'].mean(), 1  )\n",
    "# magnetic_field_uncalibrated_Train    = round(  df_Train['android.sensor.magnetic_field_uncalibrated#mean'].mean(), 1  )\n",
    "# magnetic_field_uncalibrated_Car      = round(  df_Car['android.sensor.magnetic_field_uncalibrated#mean'].mean(), 1  )\n",
    "# magnetic_field_uncalibrated_Bus      = round(  df_Bus['android.sensor.magnetic_field_uncalibrated#mean'].mean(), 1  )\n",
    "# magnetic_field_uncalibrated_Still    = round(  df_Still['android.sensor.magnetic_field_uncalibrated#mean'].mean(), 1  )\n",
    "\n",
    "\n",
    "# sound_Walking  = round(  df_Walking['sound#mean'].mean(), 1  )\n",
    "# sound_Train    = round(  df_Train['sound#mean'].mean(), 1  )\n",
    "# sound_Car      = round(  df_Car['sound#mean'].mean(), 1  )\n",
    "# sound_Bus      = round(  df_Bus['sound#mean'].mean(), 1  )\n",
    "# sound_Still    = round(  df_Still['sound#mean'].mean(), 1  )\n",
    "\n",
    "\n",
    "# light_Walking  = round(  df_Walking['android.sensor.light#mean'].mean(), 1  )\n",
    "# light_Train    = round(  df_Train['android.sensor.light#mean'].mean(), 1  )\n",
    "# light_Car      = round(  df_Car['android.sensor.light#mean'].mean(), 1  )\n",
    "# light_Bus      = round(  df_Bus['android.sensor.light#mean'].mean(), 1  )\n",
    "# light_Still    = round(  df_Still['android.sensor.light#mean'].mean(), 1  )\n",
    "\n",
    "\n",
    "# speed_Walking  = round(  df_Walking['speed#mean'].mean(), 1  )\n",
    "# speed_Train    = round(  df_Train['speed#mean'].mean(), 1  )\n",
    "# speed_Car      = round(  df_Car['speed#mean'].mean(), 1  )\n",
    "# speed_Bus      = round(  df_Bus['speed#mean'].mean(), 1  )\n",
    "# speed_Still    = round(  df_Still['speed#mean'].mean(), 1  )\n",
    "\n",
    "\n",
    "# index_colums = ['Walking', 'Train', 'Car', 'Bus', 'Still']\n",
    "\n",
    "# comparision = pd.DataFrame( \n",
    "#      { \n",
    "#           'Accelerometer'                : [accelerometer_Walking,                   accelerometer_Train,               accelerometer_Car,                 accelerometer_Bus,                 accelerometer_Still],\n",
    "#           'Magnetic Field'               : [magnetic_field_Walking,                  magnetic_field_Train,              magnetic_field_Car,                magnetic_field_Bus,                magnetic_field_Still],\n",
    "#           'Orientation'                  : [orientation_Walking,                     orientation_Train,                 orientation_Car,                   orientation_Bus,                   orientation_Still],\n",
    "#           'Gravity'                      : [gravity_Walking,                         gravity_Train,                     gravity_Car,                       gravity_Bus,                       gravity_Still],\n",
    "#           'Linear Acceleration'          : [linear_acceleration_Walking,             linear_acceleration_Train,         linear_acceleration_Car,           linear_acceleration_Bus,           linear_acceleration_Still],\n",
    "#           'Gyroscope'                    : [gyroscope_Walking,                       gyroscope_Train,                   gyroscope_Car,                     gyroscope_Bus,                     gyroscope_Still],\n",
    "#           'Rotation Vector'              : [rotation_vector_Walking,                 rotation_vector_Train,             rotation_vector_Car,               rotation_vector_Bus,               rotation_vector_Still],\n",
    "#           'Gyroscope Uncalibrated'       : [gyroscope_uncalibrated_Walking,          gyroscope_uncalibrated_Train,      gyroscope_uncalibrated_Car,        gyroscope_uncalibrated_Bus,        gyroscope_uncalibrated_Still],\n",
    "#           'Game Rotation Vector'         : [game_rotation_vector_Walking,            game_rotation_vector_Train,        game_rotation_vector_Car,          game_rotation_vector_Bus,          game_rotation_vector_Still],\n",
    "#           'Magnetic Field Uncalibrated'  : [magnetic_field_uncalibrated_Walking,     magnetic_field_uncalibrated_Train, magnetic_field_uncalibrated_Car,   magnetic_field_uncalibrated_Bus,   magnetic_field_uncalibrated_Still],\n",
    "#           'Sound'                        : [sound_Walking,                           sound_Train,                       sound_Car,                         sound_Bus,                         sound_Still],     \n",
    "#           'Light'                        : [light_Walking,                           light_Train,                       light_Car,                         light_Bus,                         light_Still],\n",
    "#           'Speed'                        : [speed_Walking,                           speed_Train,                       speed_Car,                         speed_Bus,                         speed_Still]                 \n",
    "#      }, \n",
    "     \n",
    "#      index=index_colums\n",
    "     \n",
    "#      )\n",
    "\n",
    "# comparision.index\n",
    "\n",
    "\n"
   ]
  },
  {
   "cell_type": "code",
   "execution_count": 22,
   "metadata": {},
   "outputs": [],
   "source": [
    "# comparision.to_csv('dropping_features_justification.csv')"
   ]
  },
  {
   "cell_type": "code",
   "execution_count": 23,
   "metadata": {},
   "outputs": [],
   "source": [
    "# plt.figure(figsize=(16, 12))\n",
    "\n",
    "# plt.subplot(4,7,1)\n",
    "# plt.bar(comparision.index, comparision['Accelerometer'])\n",
    "# plt.ylabel('Accelerometer')\n",
    "# plt.xticks(rotation=45)\n",
    "\n",
    "# plt.subplot(4,7,3)\n",
    "# plt.bar(comparision.index, comparision['Magnetic Field'])\n",
    "# plt.ylabel('Magnetic Field')\n",
    "# plt.xticks(rotation=45)\n",
    "\n",
    "# plt.subplot(4,7,5)\n",
    "# plt.bar(comparision.index, comparision['Orientation'])\n",
    "# plt.ylabel('Magnetic Field')\n",
    "# plt.xticks(rotation=45)\n",
    "\n",
    "# plt.subplot(4,7,7)\n",
    "# plt.bar(comparision.index, comparision['Gravity'])\n",
    "# plt.ylabel('Gravity')\n",
    "# plt.xticks(rotation=45)\n",
    "\n",
    "# plt.subplot(4,7,8)\n",
    "# plt.bar(comparision.index, comparision['Linear Acceleration'])\n",
    "# plt.ylabel('Linear Acceleration')\n",
    "# plt.xticks(rotation=45)\n",
    "\n",
    "# plt.subplot(4,7,10)\n",
    "# plt.bar(comparision.index, comparision['Gyroscope'])\n",
    "# plt.ylabel('Gyroscope')\n",
    "# plt.xticks(rotation=45)\n",
    "\n",
    "# plt.subplot(4,7,12)\n",
    "# plt.bar(comparision.index, comparision['Rotation Vector'])\n",
    "# plt.ylabel('Rotation Vector')\n",
    "# plt.xticks(rotation=45)\n",
    "\n",
    "# plt.subplot(4,7,14)\n",
    "# plt.bar(comparision.index, comparision['Gyroscope Uncalibrated'])\n",
    "# plt.ylabel('Gyroscope Uncalibrated')\n",
    "# plt.xticks(rotation=45)\n",
    "\n",
    "# plt.subplot(4,7,15)\n",
    "# plt.bar(comparision.index, comparision['Game Rotation Vector' ])\n",
    "# plt.ylabel('Game Rotation Vector')\n",
    "# plt.xticks(rotation=45)\n",
    "\n",
    "# plt.subplot(4,7,17)\n",
    "# plt.bar(comparision.index, comparision['Magnetic Field Uncalibrated'])\n",
    "# plt.ylabel('Magnetic Field Uncalibrated')\n",
    "# plt.xticks(rotation=45)\n",
    "\n",
    "# plt.subplot(4,7,19)\n",
    "# plt.bar(comparision.index, comparision['Sound'])\n",
    "# plt.ylabel('Sound')\n",
    "# plt.xticks(rotation=45)\n",
    "\n",
    "# plt.subplot(4,7,21)\n",
    "# plt.bar(comparision.index, comparision['Light'])\n",
    "# plt.ylabel('Light')\n",
    "# plt.xticks(rotation=45)\n",
    "\n",
    "# plt.subplot(4,7,24)\n",
    "# plt.bar(comparision.index, comparision['Speed'])\n",
    "# plt.ylabel('Speed')\n",
    "# plt.xticks(rotation=45)\n",
    "\n"
   ]
  },
  {
   "cell_type": "code",
   "execution_count": 24,
   "metadata": {},
   "outputs": [],
   "source": [
    "# df_train.columns.unique"
   ]
  },
  {
   "cell_type": "code",
   "execution_count": 25,
   "metadata": {},
   "outputs": [],
   "source": [
    "# miss_data = pd.read_csv('missing_values.csv', index_col=[0])\n",
    "\n",
    "# miss_data['% missing'] = round(  (( miss_data['Total Users'] -  miss_data['Differences'] ) / miss_data['Total Users']) * 100,  1)\n",
    "\n",
    "# fig = miss_data.sort_values('Missing Values', ascending=True)\n",
    "\n",
    "# #  miss_data.groupby(miss_data['Missing Values'])\n",
    "# fig.shape\n",
    "# fig.head(3)"
   ]
  },
  {
   "cell_type": "code",
   "execution_count": 26,
   "metadata": {},
   "outputs": [],
   "source": [
    "# plt.figure(figsize=(16, 8))\n",
    "\n",
    "# X = np.arange(18)\n",
    "\n",
    "\n",
    "# plt.bar(X, fig['Differences'],     width=0.6, bottom=fig['Missing Values'], color='g')\n",
    "# plt.bar(X, fig['Missing Values'],  width=0.6,                        color='r')\n",
    "\n",
    "# plt.ylabel('Number of Data', fontsize=30)\n",
    "# plt.xlabel('Features', fontsize=30)\n",
    "# plt.title('A graph of the Number of data as a function of the Features', fontsize=20)\n",
    "# plt.ylim(0, 70000)\n",
    "# plt.xticks(X, fig.index, rotation=90, fontsize=15 )\n",
    "\n",
    "\n",
    "# plt.yticks(fontsize=20)\n"
   ]
  },
  {
   "cell_type": "code",
   "execution_count": 27,
   "metadata": {},
   "outputs": [],
   "source": [
    "columns_three_features     = ['android.sensor.gyroscope#mean', 'speed#mean', 'android.sensor.magnetic_field#mean']\n",
    "columns_four_features      = ['android.sensor.gyroscope#mean', 'speed#mean', 'android.sensor.magnetic_field#mean', 'android.sensor.rotation_vector#mean']\n",
    "columns_thirteen_features  =  ['android.sensor.accelerometer#mean', 'android.sensor.magnetic_field#mean', 'android.sensor.orientation#mean', 'android.sensor.gravity#mean', 'android.sensor.linear_acceleration#mean', 'android.sensor.gyroscope#mean', 'android.sensor.rotation_vector#mean', 'android.sensor.gyroscope_uncalibrated#mean', 'android.sensor.game_rotation_vector#mean', 'android.sensor.magnetic_field_uncalibrated#mean', 'sound#mean', 'android.sensor.light#mean', 'speed#mean' ]\n",
    "\n",
    "target = 'target'\n"
   ]
  },
  {
   "cell_type": "code",
   "execution_count": null,
   "metadata": {},
   "outputs": [],
   "source": [
    "\n"
   ]
  },
  {
   "cell_type": "code",
   "execution_count": null,
   "metadata": {},
   "outputs": [],
   "source": []
  },
  {
   "cell_type": "code",
   "execution_count": 28,
   "metadata": {},
   "outputs": [],
   "source": [
    "# cleaned_data = pd.read_csv('40k_rows.csv')\n",
    "\n",
    "# columns_3_features = ['android.sensor.gyroscope#mean', 'speed#mean', 'android.sensor.magnetic_field#mean']\n",
    "# target = 'target'\n",
    "\n",
    "# X_3 = cleaned_data[columns_3_features]\n",
    "# y  = cleaned_data[target]\n",
    "\n",
    "# from sklearn.model_selection import train_test_split\n",
    "\n",
    "# X_train_3, X_test_3, y_train_3, y_test_3 = train_test_split(X_3, y, random_state=0, stratify=y)\n",
    "\n",
    "# model_decision_tree_3 = DecisionTreeClassifier()\n",
    "# model_random_forest_3 = RandomForestClassifier()\n",
    "# model_SVC_3           = SVC()\n",
    "\n",
    "# model_decision_tree_3.fit(X_train_3, y_train_3)\n",
    "# model_random_forest_3.fit(X_train_3, y_train_3)\n",
    "# model_SVC_3.fit(X_train_3, y_train_3)\n",
    "\n",
    "# accuracy_decision_tree_3 = round(model_decision_tree_3.score(X_test_3, y_test_3) * 100, 1)\n",
    "# accuracy_random_forest_3 = round(model_random_forest_3.score(X_test_3, y_test_3) * 100, 1)\n",
    "# accuracy_SVC_3           = round(model_SVC_3.score(X_test_3, y_test_3) * 100, 1)\n",
    "\n",
    "# print(accuracy_decision_tree_3)\n",
    "# print(accuracy_random_forest_3)\n",
    "# print(accuracy_SVC_3)"
   ]
  },
  {
   "cell_type": "code",
   "execution_count": null,
   "metadata": {},
   "outputs": [],
   "source": []
  },
  {
   "cell_type": "code",
   "execution_count": null,
   "metadata": {},
   "outputs": [],
   "source": [
    "\n",
    "\n"
   ]
  },
  {
   "cell_type": "code",
   "execution_count": 29,
   "metadata": {},
   "outputs": [],
   "source": [
    "\n",
    "\n",
    "# cleaned_data = pd.read_csv('40k_rows.csv')\n",
    "\n",
    "# columns_4_features = ['android.sensor.gyroscope#mean', 'speed#mean', 'android.sensor.magnetic_field#mean', 'android.sensor.rotation_vector#mean']\n",
    "# target = 'target'\n",
    "\n",
    "# X_4 = cleaned_data[columns_4_features]\n",
    "# y  = cleaned_data[target]\n",
    "\n",
    "# from sklearn.model_selection import train_test_split\n",
    "\n",
    "# X_train_4, X_test_4, y_train_4, y_test_4 = train_test_split(X_4, y, random_state=0, stratify=y)\n",
    "\n",
    "# model_decision_tree_4 = DecisionTreeClassifier()\n",
    "# model_random_forest_4 = RandomForestClassifier()\n",
    "# model_SVC_4           = SVC()\n",
    "\n",
    "# model_decision_tree_4.fit(X_train_4, y_train_4)\n",
    "# model_random_forest_4.fit(X_train_4, y_train_4)\n",
    "# model_SVC_4.fit(X_train_4, y_train_4)\n",
    "\n",
    "# accuracy_decision_tree_4 = round(model_decision_tree_4.score(X_test_4, y_test_4) * 100, 1)\n",
    "# accuracy_random_forest_4 = round(model_random_forest_4.score(X_test_4, y_test_4) * 100, 1)\n",
    "# accuracy_SVC_4           = round(model_SVC_4.score(X_test_4, y_test_4) * 100, 1)\n",
    "\n",
    "# print(accuracy_decision_tree_4)\n",
    "# print(accuracy_random_forest_4)\n",
    "# print(accuracy_SVC_4)"
   ]
  },
  {
   "cell_type": "code",
   "execution_count": 30,
   "metadata": {},
   "outputs": [],
   "source": [
    "# columns_12_features  =['android.sensor.accelerometer#mean', 'android.sensor.magnetic_field#mean', 'android.sensor.orientation#mean', 'android.sensor.gravity#mean', 'android.sensor.linear_acceleration#mean', 'android.sensor.gyroscope#mean', 'android.sensor.rotation_vector#mean', 'android.sensor.gyroscope_uncalibrated#mean', 'android.sensor.game_rotation_vector#mean', 'android.sensor.magnetic_field_uncalibrated#mean', 'sound#mean',  'speed#mean' ]\n",
    "\n",
    "\n",
    "# cleaned_data = pd.read_csv('40k_rows.csv')\n",
    "\n",
    "# columns_12_features  =['android.sensor.accelerometer#mean', 'android.sensor.magnetic_field#mean', 'android.sensor.orientation#mean', 'android.sensor.gravity#mean', 'android.sensor.linear_acceleration#mean', 'android.sensor.gyroscope#mean', 'android.sensor.rotation_vector#mean', 'android.sensor.gyroscope_uncalibrated#mean', 'android.sensor.game_rotation_vector#mean', 'android.sensor.magnetic_field_uncalibrated#mean', 'sound#mean',  'speed#mean' ]\n",
    "\n",
    "# target = 'target'\n",
    "\n",
    "# X_12 = cleaned_data[columns_12_features]\n",
    "# y  = cleaned_data[target]\n",
    "\n",
    "# from sklearn.model_selection import train_test_split\n",
    "\n",
    "# X_train_12, X_test_12, y_train_12, y_test_12 = train_test_split(X_12, y, random_state=0, stratify=y)\n",
    "\n",
    "# model_decision_tree_12 = DecisionTreeClassifier()\n",
    "# model_random_forest_12 = RandomForestClassifier()\n",
    "# model_SVC_12           = SVC()\n",
    "\n",
    "# model_decision_tree_12.fit(X_train_12, y_train_12)\n",
    "# model_random_forest_12.fit(X_train_12, y_train_12)\n",
    "# model_SVC_12.fit(X_train_12, y_train_12)\n",
    "\n",
    "# accuracy_decision_tree_12 = round(model_decision_tree_12.score(X_test_12, y_test_12) * 100, 1)\n",
    "# accuracy_random_forest_12 = round(model_random_forest_12.score(X_test_12, y_test_12) * 100, 1)\n",
    "# accuracy_SVC_12           = round(model_SVC_12.score(X_test_12, y_test_12) * 100, 1)\n",
    "\n",
    "# print(accuracy_decision_tree_12)\n",
    "# print(accuracy_random_forest_12)\n",
    "# print(accuracy_SVC_12)"
   ]
  },
  {
   "cell_type": "markdown",
   "metadata": {},
   "source": [
    "# FUNCTION TO FIND THE ACCURACY"
   ]
  },
  {
   "cell_type": "code",
   "execution_count": 31,
   "metadata": {},
   "outputs": [],
   "source": [
    "\n",
    "\n",
    "# def accuracy(name_file, columns_of_features):\n",
    "\n",
    "#      cleaned_data = pd.read_csv(name_file)\n",
    "\n",
    "#      features  = columns_of_features\n",
    "#      target    = 'target'\n",
    "\n",
    "#      X = cleaned_data[features]\n",
    "#      y = cleaned_data[target]\n",
    "\n",
    "#      X_train, X_test, y_train, y_test = train_test_split(X, y, random_state=0, stratify=y)\n",
    "\n",
    "#      model_decision_tree = DecisionTreeClassifier()\n",
    "#      model_random_forest = RandomForestClassifier()\n",
    "#      model_SVC           = SVC()\n",
    "\n",
    "#      model_decision_tree.fit(X_train, y_train)\n",
    "#      model_random_forest.fit(X_train, y_train)\n",
    "#      model_SVC.fit(X_train, y_train)\n",
    "\n",
    "#      accuracy_decision_tree = round(model_decision_tree.score(X_test, y_test) * 100, 1)\n",
    "#      accuracy_random_forest = round(model_random_forest.score(X_test, y_test) * 100, 1)\n",
    "#      accuracy_SVC           = round(model_SVC.score(X_test, y_test) * 100, 1)\n",
    "\n",
    "#      print('Decision Tree Accuracy : ', accuracy_decision_tree)\n",
    "#      print('Random Forest Accuracy : ', accuracy_random_forest)\n",
    "#      print('SVC Accuracy           : ', accuracy_SVC)\n",
    "\n",
    "#      return accuracy_decision_tree, accuracy_random_forest, accuracy_SVC\n",
    "\n"
   ]
  },
  {
   "cell_type": "code",
   "execution_count": null,
   "metadata": {},
   "outputs": [],
   "source": []
  },
  {
   "cell_type": "markdown",
   "metadata": {},
   "source": [
    "# TWO FEATURES"
   ]
  },
  {
   "cell_type": "code",
   "execution_count": 32,
   "metadata": {},
   "outputs": [
    {
     "data": {
      "text/plain": [
       "' Magnetic Field and Gyroscope'"
      ]
     },
     "execution_count": 32,
     "metadata": {},
     "output_type": "execute_result"
    }
   ],
   "source": [
    "\"\"\" Magnetic Field and Gyroscope\"\"\"\n",
    "\n",
    "\n",
    "\n",
    "# columns_features  = ['android.sensor.magnetic_field#mean', 'android.sensor.gyroscope#mean' ]\n",
    "# name_file = '40k_rows.csv'\n",
    "\n",
    "# accuracy(name_file, columns_features)\n",
    "\n"
   ]
  },
  {
   "cell_type": "code",
   "execution_count": 33,
   "metadata": {},
   "outputs": [
    {
     "data": {
      "text/plain": [
       "' Magnetic Field and Speed '"
      ]
     },
     "execution_count": 33,
     "metadata": {},
     "output_type": "execute_result"
    }
   ],
   "source": [
    "\"\"\" Magnetic Field and Speed \"\"\"\n",
    "\n",
    "# columns_features  =['android.sensor.magnetic_field#mean',   'speed#mean' ]\n",
    "# name_file = '40k_rows.csv'\n",
    "\n",
    "# accuracy(name_file, columns_features)\n"
   ]
  },
  {
   "cell_type": "code",
   "execution_count": 34,
   "metadata": {},
   "outputs": [
    {
     "data": {
      "text/plain": [
       "' Magnetic Field and Game Rotation Vector '"
      ]
     },
     "execution_count": 34,
     "metadata": {},
     "output_type": "execute_result"
    }
   ],
   "source": [
    "\"\"\" Magnetic Field and Game Rotation Vector \"\"\"\n",
    "\n",
    "# columns_features  =['android.sensor.magnetic_field#mean',  'android.sensor.game_rotation_vector#mean' ]\n",
    "# name_file = '40k_rows.csv'\n",
    "\n",
    "# accuracy(name_file, columns_features)"
   ]
  },
  {
   "cell_type": "code",
   "execution_count": 35,
   "metadata": {},
   "outputs": [
    {
     "data": {
      "text/plain": [
       "' Gyroscope and Speed '"
      ]
     },
     "execution_count": 35,
     "metadata": {},
     "output_type": "execute_result"
    }
   ],
   "source": [
    "\"\"\" Gyroscope and Speed \"\"\"\n",
    "\n",
    "# columns_features  =[ 'android.sensor.gyroscope#mean',  'speed#mean' ]\n",
    "# name_file = '40k_rows.csv'\n",
    "\n",
    "# accuracy(name_file, columns_features)"
   ]
  },
  {
   "cell_type": "code",
   "execution_count": 36,
   "metadata": {},
   "outputs": [
    {
     "data": {
      "text/plain": [
       "' Gyroscope and Game Rotation Vector '"
      ]
     },
     "execution_count": 36,
     "metadata": {},
     "output_type": "execute_result"
    }
   ],
   "source": [
    "\"\"\" Gyroscope and Game Rotation Vector \"\"\"\n",
    "\n",
    "# columns_features  =[ 'android.sensor.gyroscope#mean',  'android.sensor.game_rotation_vector#mean' ]\n",
    "# name_file = '40k_rows.csv'\n",
    "\n",
    "# accuracy(name_file, columns_features)"
   ]
  },
  {
   "cell_type": "code",
   "execution_count": 37,
   "metadata": {},
   "outputs": [
    {
     "data": {
      "text/plain": [
       "' Speed and Game Rotation Vector '"
      ]
     },
     "execution_count": 37,
     "metadata": {},
     "output_type": "execute_result"
    }
   ],
   "source": [
    "\"\"\" Speed and Game Rotation Vector \"\"\"\n",
    "\n",
    "# columns_features  =[  'speed#mean', 'android.sensor.game_rotation_vector#mean' ]\n",
    "# name_file = '40k_rows.csv'\n",
    "\n",
    "# accuracy(name_file, columns_features)\n"
   ]
  },
  {
   "cell_type": "markdown",
   "metadata": {},
   "source": [
    "# THREE FEATURES"
   ]
  },
  {
   "cell_type": "code",
   "execution_count": 38,
   "metadata": {},
   "outputs": [
    {
     "data": {
      "text/plain": [
       "' Magnetic Field,   Gyroscope,  and Speed '"
      ]
     },
     "execution_count": 38,
     "metadata": {},
     "output_type": "execute_result"
    }
   ],
   "source": [
    "\"\"\" Magnetic Field,   Gyroscope,  and Speed \"\"\"\n",
    "\n",
    "\n",
    "# columns_features  =['android.sensor.magnetic_field#mean', 'android.sensor.gyroscope#mean',  'speed#mean']\n",
    "# name_file = '40k_rows.csv'\n",
    "\n",
    "# accuracy(name_file, columns_features)\n"
   ]
  },
  {
   "cell_type": "code",
   "execution_count": 39,
   "metadata": {},
   "outputs": [
    {
     "data": {
      "text/plain": [
       "' Magnetic Field,   Gyroscope,  and Game Rotation Vector '"
      ]
     },
     "execution_count": 39,
     "metadata": {},
     "output_type": "execute_result"
    }
   ],
   "source": [
    "\"\"\" Magnetic Field,   Gyroscope,  and Game Rotation Vector \"\"\"\n",
    "\n",
    "# columns_features  =['android.sensor.magnetic_field#mean', 'android.sensor.gyroscope#mean',   'android.sensor.game_rotation_vector#mean' ]\n",
    "# name_file = '40k_rows.csv'\n",
    "\n",
    "# accuracy(name_file, columns_features)"
   ]
  },
  {
   "cell_type": "code",
   "execution_count": 40,
   "metadata": {},
   "outputs": [
    {
     "data": {
      "text/plain": [
       "' Magnetic Field,   Speed,  and Game Rotation Vector '"
      ]
     },
     "execution_count": 40,
     "metadata": {},
     "output_type": "execute_result"
    }
   ],
   "source": [
    "\"\"\" Magnetic Field,   Speed,  and Game Rotation Vector \"\"\"\n",
    "\n",
    "# columns_features  =['android.sensor.magnetic_field#mean',   'speed#mean', 'android.sensor.game_rotation_vector#mean' ]\n",
    "# name_file = '40k_rows.csv'\n",
    "\n",
    "# accuracy(name_file, columns_features)"
   ]
  },
  {
   "cell_type": "code",
   "execution_count": 41,
   "metadata": {},
   "outputs": [
    {
     "data": {
      "text/plain": [
       "' Gyroscope,   Speed,  and Game Rotation Vector '"
      ]
     },
     "execution_count": 41,
     "metadata": {},
     "output_type": "execute_result"
    }
   ],
   "source": [
    "\"\"\" Gyroscope,   Speed,  and Game Rotation Vector \"\"\"\n",
    "\n",
    "# columns_features  =[ 'android.sensor.gyroscope#mean',  'speed#mean', 'android.sensor.game_rotation_vector#mean' ]\n",
    "# name_file = '40k_rows.csv'\n",
    "\n",
    "# accuracy(name_file, columns_features)"
   ]
  },
  {
   "cell_type": "markdown",
   "metadata": {},
   "source": [
    "# FOUR FEATURES"
   ]
  },
  {
   "cell_type": "code",
   "execution_count": 42,
   "metadata": {},
   "outputs": [],
   "source": [
    "# columns_features  =['android.sensor.magnetic_field#mean', 'android.sensor.gyroscope#mean',  'speed#mean', 'android.sensor.game_rotation_vector#mean' ]\n",
    "# name_file = '40k_rows.csv'\n",
    "\n",
    "# accuracy(name_file, columns_features)"
   ]
  },
  {
   "cell_type": "markdown",
   "metadata": {},
   "source": [
    "# TWELVE FEATURES"
   ]
  },
  {
   "cell_type": "code",
   "execution_count": 43,
   "metadata": {},
   "outputs": [],
   "source": [
    "# columns_features  =['android.sensor.accelerometer#mean', 'android.sensor.magnetic_field#mean', 'android.sensor.orientation#mean', 'android.sensor.gravity#mean', 'android.sensor.linear_acceleration#mean', 'android.sensor.gyroscope#mean', 'android.sensor.rotation_vector#mean', 'android.sensor.gyroscope_uncalibrated#mean', 'android.sensor.game_rotation_vector#mean', 'android.sensor.magnetic_field_uncalibrated#mean', 'sound#mean',  'speed#mean' ]\n",
    "# name_file = '40k_rows.csv'\n",
    "\n",
    "# accuracy(name_file, columns_features)"
   ]
  },
  {
   "cell_type": "code",
   "execution_count": null,
   "metadata": {},
   "outputs": [],
   "source": []
  },
  {
   "cell_type": "code",
   "execution_count": null,
   "metadata": {},
   "outputs": [],
   "source": []
  }
 ],
 "metadata": {
  "interpreter": {
   "hash": "97b91b6d5003af60c654b6abfe8ac1e5d274e52e67a717d7df64331168b10d1c"
  },
  "kernelspec": {
   "display_name": "Python 3.8.12 ('pz')",
   "language": "python",
   "name": "python3"
  },
  "language_info": {
   "codemirror_mode": {
    "name": "ipython",
    "version": 3
   },
   "file_extension": ".py",
   "mimetype": "text/x-python",
   "name": "python",
   "nbconvert_exporter": "python",
   "pygments_lexer": "ipython3",
   "version": "3.8.12"
  },
  "orig_nbformat": 4
 },
 "nbformat": 4,
 "nbformat_minor": 2
}
