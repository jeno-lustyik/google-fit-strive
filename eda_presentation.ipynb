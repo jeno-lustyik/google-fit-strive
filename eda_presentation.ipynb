{
 "cells": [
  {
   "cell_type": "code",
   "execution_count": 6,
   "metadata": {},
   "outputs": [],
   "source": [
    "import pandas  as pd\n",
    "import numpy   as np\n",
    "import matplotlib.pyplot as plt\n",
    "\n",
    "from sklearn.model_selection import train_test_split\n",
    "\n",
    "from sklearn.tree        import DecisionTreeClassifier\n",
    "from sklearn.ensemble    import RandomForestClassifier\n",
    "from sklearn.svm         import SVC "
   ]
  },
  {
   "cell_type": "code",
   "execution_count": 116,
   "metadata": {},
   "outputs": [
    {
     "data": {
      "text/html": [
       "<div>\n",
       "<style scoped>\n",
       "    .dataframe tbody tr th:only-of-type {\n",
       "        vertical-align: middle;\n",
       "    }\n",
       "\n",
       "    .dataframe tbody tr th {\n",
       "        vertical-align: top;\n",
       "    }\n",
       "\n",
       "    .dataframe thead th {\n",
       "        text-align: right;\n",
       "    }\n",
       "</style>\n",
       "<table border=\"1\" class=\"dataframe\">\n",
       "  <thead>\n",
       "    <tr style=\"text-align: right;\">\n",
       "      <th></th>\n",
       "      <th>Unnamed: 0</th>\n",
       "      <th>id</th>\n",
       "      <th>time</th>\n",
       "      <th>activityrecognition#0</th>\n",
       "      <th>activityrecognition#1</th>\n",
       "      <th>android.sensor.accelerometer#mean</th>\n",
       "      <th>android.sensor.accelerometer#min</th>\n",
       "      <th>android.sensor.accelerometer#max</th>\n",
       "      <th>android.sensor.accelerometer#std</th>\n",
       "      <th>android.sensor.game_rotation_vector#mean</th>\n",
       "      <th>...</th>\n",
       "      <th>sound#mean</th>\n",
       "      <th>sound#min</th>\n",
       "      <th>sound#max</th>\n",
       "      <th>sound#std</th>\n",
       "      <th>speed#mean</th>\n",
       "      <th>speed#min</th>\n",
       "      <th>speed#max</th>\n",
       "      <th>speed#std</th>\n",
       "      <th>target</th>\n",
       "      <th>user</th>\n",
       "    </tr>\n",
       "  </thead>\n",
       "  <tbody>\n",
       "    <tr>\n",
       "      <th>0</th>\n",
       "      <td>0</td>\n",
       "      <td>156661</td>\n",
       "      <td>3.0</td>\n",
       "      <td>NaN</td>\n",
       "      <td>62.0</td>\n",
       "      <td>10.053802</td>\n",
       "      <td>4.328630</td>\n",
       "      <td>14.419712</td>\n",
       "      <td>2.359507</td>\n",
       "      <td>0.629076</td>\n",
       "      <td>...</td>\n",
       "      <td>NaN</td>\n",
       "      <td>NaN</td>\n",
       "      <td>NaN</td>\n",
       "      <td>NaN</td>\n",
       "      <td>NaN</td>\n",
       "      <td>NaN</td>\n",
       "      <td>NaN</td>\n",
       "      <td>NaN</td>\n",
       "      <td>Bus</td>\n",
       "      <td>U12</td>\n",
       "    </tr>\n",
       "    <tr>\n",
       "      <th>1</th>\n",
       "      <td>1</td>\n",
       "      <td>156662</td>\n",
       "      <td>4.0</td>\n",
       "      <td>NaN</td>\n",
       "      <td>62.0</td>\n",
       "      <td>10.687402</td>\n",
       "      <td>6.373194</td>\n",
       "      <td>16.329818</td>\n",
       "      <td>2.912315</td>\n",
       "      <td>0.577839</td>\n",
       "      <td>...</td>\n",
       "      <td>NaN</td>\n",
       "      <td>NaN</td>\n",
       "      <td>NaN</td>\n",
       "      <td>NaN</td>\n",
       "      <td>NaN</td>\n",
       "      <td>NaN</td>\n",
       "      <td>NaN</td>\n",
       "      <td>NaN</td>\n",
       "      <td>Bus</td>\n",
       "      <td>U12</td>\n",
       "    </tr>\n",
       "    <tr>\n",
       "      <th>2</th>\n",
       "      <td>2</td>\n",
       "      <td>156663</td>\n",
       "      <td>5.0</td>\n",
       "      <td>NaN</td>\n",
       "      <td>62.0</td>\n",
       "      <td>11.816800</td>\n",
       "      <td>4.817410</td>\n",
       "      <td>16.854629</td>\n",
       "      <td>3.199759</td>\n",
       "      <td>0.651511</td>\n",
       "      <td>...</td>\n",
       "      <td>NaN</td>\n",
       "      <td>NaN</td>\n",
       "      <td>NaN</td>\n",
       "      <td>NaN</td>\n",
       "      <td>NaN</td>\n",
       "      <td>NaN</td>\n",
       "      <td>NaN</td>\n",
       "      <td>NaN</td>\n",
       "      <td>Bus</td>\n",
       "      <td>U12</td>\n",
       "    </tr>\n",
       "  </tbody>\n",
       "</table>\n",
       "<p>3 rows × 71 columns</p>\n",
       "</div>"
      ],
      "text/plain": [
       "   Unnamed: 0      id  time  activityrecognition#0  activityrecognition#1  \\\n",
       "0           0  156661   3.0                    NaN                   62.0   \n",
       "1           1  156662   4.0                    NaN                   62.0   \n",
       "2           2  156663   5.0                    NaN                   62.0   \n",
       "\n",
       "   android.sensor.accelerometer#mean  android.sensor.accelerometer#min  \\\n",
       "0                          10.053802                          4.328630   \n",
       "1                          10.687402                          6.373194   \n",
       "2                          11.816800                          4.817410   \n",
       "\n",
       "   android.sensor.accelerometer#max  android.sensor.accelerometer#std  \\\n",
       "0                         14.419712                          2.359507   \n",
       "1                         16.329818                          2.912315   \n",
       "2                         16.854629                          3.199759   \n",
       "\n",
       "   android.sensor.game_rotation_vector#mean  ...  sound#mean  sound#min  \\\n",
       "0                                  0.629076  ...         NaN        NaN   \n",
       "1                                  0.577839  ...         NaN        NaN   \n",
       "2                                  0.651511  ...         NaN        NaN   \n",
       "\n",
       "   sound#max  sound#std  speed#mean  speed#min  speed#max  speed#std  target  \\\n",
       "0        NaN        NaN         NaN        NaN        NaN        NaN     Bus   \n",
       "1        NaN        NaN         NaN        NaN        NaN        NaN     Bus   \n",
       "2        NaN        NaN         NaN        NaN        NaN        NaN     Bus   \n",
       "\n",
       "   user  \n",
       "0   U12  \n",
       "1   U12  \n",
       "2   U12  \n",
       "\n",
       "[3 rows x 71 columns]"
      ]
     },
     "execution_count": 116,
     "metadata": {},
     "output_type": "execute_result"
    }
   ],
   "source": [
    "data = pd.read_csv('dataset_halfSecondWindow.csv')\n",
    "data.head(3)"
   ]
  },
  {
   "cell_type": "code",
   "execution_count": 195,
   "metadata": {},
   "outputs": [],
   "source": [
    "col_names = [ 'activityrecognition#1',  'android.sensor.accelerometer#mean',  'android.sensor.game_rotation_vector#mean', 'android.sensor.gravity#mean',   'android.sensor.gyroscope#mean',   'android.sensor.gyroscope_uncalibrated#mean',  'android.sensor.light#mean',  'android.sensor.linear_acceleration#mean', 'android.sensor.magnetic_field#mean', 'android.sensor.magnetic_field_uncalibrated#mean', 'android.sensor.orientation#mean', 'android.sensor.pressure#mean',  'android.sensor.proximity#mean', 'android.sensor.rotation_vector#mean', 'android.sensor.step_counter#mean', 'sound#mean',  'speed#mean', 'target', 'user', 'android.sensor.magnetic_field#mean']\n",
    "columns_nine_features  = ['android.sensor.accelerometer#mean',  'sound#mean', 'android.sensor.orientation#mean', 'android.sensor.linear_acceleration#mean', 'speed#mean', 'android.sensor.gyroscope#mean', 'android.sensor.rotation_vector#mean', 'android.sensor.game_rotation_vector#mean',  'android.sensor.gyroscope_uncalibrated#mean', 'target', 'android.sensor.magnetic_field#mean', 'android.sensor.magnetic_field#mean']  \n",
    "col_names_thirteen = [ 'android.sensor.accelerometer#mean',\n",
    "\n",
    "  \t'android.sensor.magnetic_field#mean',\n",
    "\n",
    "      \n",
    "          'android.sensor.orientation#mean', \n",
    "\n",
    "          'android.sensor.gravity#mean', \n",
    "\n",
    "          'android.sensor.linear_acceleration#mean',\n",
    "\n",
    "          'android.sensor.gyroscope#mean', \n",
    "\n",
    "          'android.sensor.rotation_vector#mean',\n",
    "      \n",
    "          'android.sensor.gyroscope_uncalibrated#mean',\n",
    "   \n",
    "          'android.sensor.game_rotation_vector#mean',\n",
    "  \n",
    "         \t'android.sensor.magnetic_field_uncalibrated#mean',\n",
    "     \n",
    "          'sound#mean', \n",
    "\n",
    "          'android.sensor.light#mean', \n",
    "    \n",
    "          'speed#mean', \n",
    "          'target'\n",
    "          ]\n"
   ]
  },
  {
   "cell_type": "code",
   "execution_count": 196,
   "metadata": {},
   "outputs": [
    {
     "data": {
      "text/plain": [
       "(62585, 14)"
      ]
     },
     "execution_count": 196,
     "metadata": {},
     "output_type": "execute_result"
    }
   ],
   "source": [
    "df = data[col_names_thirteen]\n",
    "# df.head(4)\n",
    "# missing = df.isna().sum()\n",
    "# missing.to_csv('missing_values.csv')\n",
    "df.shape"
   ]
  },
  {
   "cell_type": "code",
   "execution_count": null,
   "metadata": {},
   "outputs": [],
   "source": []
  },
  {
   "cell_type": "code",
   "execution_count": 197,
   "metadata": {},
   "outputs": [
    {
     "data": {
      "text/plain": [
       "Car        12518\n",
       "Bus        12517\n",
       "Train      12517\n",
       "Walking    12517\n",
       "Still      12516\n",
       "Name: target, dtype: int64"
      ]
     },
     "execution_count": 197,
     "metadata": {},
     "output_type": "execute_result"
    }
   ],
   "source": [
    "df['target'].value_counts()"
   ]
  },
  {
   "cell_type": "code",
   "execution_count": 200,
   "metadata": {},
   "outputs": [
    {
     "data": {
      "text/plain": [
       "(18586, 14)"
      ]
     },
     "execution_count": 200,
     "metadata": {},
     "output_type": "execute_result"
    }
   ],
   "source": [
    "df_dropna = df.dropna()\n",
    "df_dropna.shape"
   ]
  },
  {
   "cell_type": "code",
   "execution_count": 201,
   "metadata": {},
   "outputs": [
    {
     "data": {
      "text/plain": [
       "Car        5134\n",
       "Bus        4962\n",
       "Walking    4734\n",
       "Still      3331\n",
       "Train       425\n",
       "Name: target, dtype: int64"
      ]
     },
     "execution_count": 201,
     "metadata": {},
     "output_type": "execute_result"
    }
   ],
   "source": [
    "df_dropna['target'].value_counts()"
   ]
  },
  {
   "cell_type": "code",
   "execution_count": 217,
   "metadata": {},
   "outputs": [
    {
     "data": {
      "text/plain": [
       "Index(['Walking', 'Train', 'Car', 'Bus', 'Still'], dtype='object')"
      ]
     },
     "execution_count": 217,
     "metadata": {},
     "output_type": "execute_result"
    }
   ],
   "source": [
    "\n",
    "df_Walking     = df_dropna[df_dropna['target'] == 'Walking']\n",
    "df_Train       = df_dropna[df_dropna['target'] == 'Train']\n",
    "df_Car         = df_dropna[df_dropna['target'] == 'Car']\n",
    "df_Bus         = df_dropna[df_dropna['target'] == 'Bus']\n",
    "df_Still       = df_dropna[df_dropna['target'] == 'Still']\n",
    "\n",
    "\n",
    "\n",
    "accelerometer_Walking  = round(  df_Walking['android.sensor.accelerometer#mean'].mean(), 1  )\n",
    "accelerometer_Train    = round(  df_Train['android.sensor.accelerometer#mean'].mean(), 1  )\n",
    "accelerometer_Car      = round(  df_Car['android.sensor.accelerometer#mean'].mean(), 1  )\n",
    "accelerometer_Bus      = round(  df_Bus['android.sensor.accelerometer#mean'].mean(), 1  )\n",
    "accelerometer_Still    = round(  df_Still['android.sensor.accelerometer#mean'].mean(), 1  )\n",
    "\n",
    "\n",
    "magnetic_field_Walking  = round(  df_Walking['android.sensor.magnetic_field#mean'].mean(), 1  )\n",
    "magnetic_field_Train    = round(  df_Train['android.sensor.magnetic_field#mean'].mean(), 1  )\n",
    "magnetic_field_Car      = round(  df_Car['android.sensor.magnetic_field#mean'].mean(), 1  )\n",
    "magnetic_field_Bus      = round(  df_Bus['android.sensor.magnetic_field#mean'].mean(), 1  )\n",
    "magnetic_field_Still    = round(  df_Still['android.sensor.magnetic_field#mean'].mean(), 1  )\n",
    "\n",
    "\n",
    "orientation_Walking  = round(  df_Walking['android.sensor.orientation#mean'].mean(), 1  )\n",
    "orientation_Train    = round(  df_Train['android.sensor.orientation#mean'].mean(), 1  )\n",
    "orientation_Car      = round(  df_Car['android.sensor.orientation#mean'].mean(), 1  )\n",
    "orientation_Bus      = round(  df_Bus['android.sensor.orientation#mean'].mean(), 1  )\n",
    "orientation_Still    = round(  df_Still['android.sensor.orientation#mean'].mean(), 1  )\n",
    "\n",
    "\n",
    "gravity_Walking  = round(  df_Walking['android.sensor.gravity#mean'].mean(), 1  )\n",
    "gravity_Train    = round(  df_Train['android.sensor.gravity#mean'].mean(), 1  )\n",
    "gravity_Car      = round(  df_Car['android.sensor.gravity#mean'].mean(), 1  )\n",
    "gravity_Bus      = round(  df_Bus['android.sensor.gravity#mean'].mean(), 1  )\n",
    "gravity_Still    = round(  df_Still['android.sensor.gravity#mean'].mean(), 1  )\n",
    "\n",
    "\n",
    "linear_acceleration_Walking  = round(  df_Walking['android.sensor.linear_acceleration#mean'].mean(), 1  )\n",
    "linear_acceleration_Train    = round(  df_Train['android.sensor.linear_acceleration#mean'].mean(), 1  )\n",
    "linear_acceleration_Car      = round(  df_Car['android.sensor.linear_acceleration#mean'].mean(), 1  )\n",
    "linear_acceleration_Bus      = round(  df_Bus['android.sensor.linear_acceleration#mean'].mean(), 1  )\n",
    "linear_acceleration_Still    = round(  df_Still['android.sensor.linear_acceleration#mean'].mean(), 1  )\n",
    "\n",
    "\n",
    "gyroscope_Walking  = round(  df_Walking['android.sensor.gyroscope#mean'].mean(), 1  )\n",
    "gyroscope_Train    = round(  df_Train['android.sensor.gyroscope#mean'].mean(), 1  )\n",
    "gyroscope_Car      = round(  df_Car['android.sensor.gyroscope#mean'].mean(), 1  )\n",
    "gyroscope_Bus      = round(  df_Bus['android.sensor.gyroscope#mean'].mean(), 1  )\n",
    "gyroscope_Still    = round(  df_Still['android.sensor.gyroscope#mean'].mean(), 1  )\n",
    "\n",
    "\n",
    "rotation_vector_Walking  = round(  df_Walking['android.sensor.rotation_vector#mean'].mean(), 1  )\n",
    "rotation_vector_Train    = round(  df_Train['android.sensor.rotation_vector#mean'].mean(), 1  )\n",
    "rotation_vector_Car      = round(  df_Car['android.sensor.rotation_vector#mean'].mean(), 1  )\n",
    "rotation_vector_Bus      = round(  df_Bus['android.sensor.rotation_vector#mean'].mean(), 1  )\n",
    "rotation_vector_Still    = round(  df_Still['android.sensor.rotation_vector#mean'].mean(), 1  )\n",
    "\n",
    "\n",
    "gyroscope_uncalibrated_Walking  = round(  df_Walking['android.sensor.gyroscope_uncalibrated#mean'].mean(), 1  )\n",
    "gyroscope_uncalibrated_Train    = round(  df_Train['android.sensor.gyroscope_uncalibrated#mean'].mean(), 1  )\n",
    "gyroscope_uncalibrated_Car      = round(  df_Car['android.sensor.gyroscope_uncalibrated#mean'].mean(), 1  )\n",
    "gyroscope_uncalibrated_Bus      = round(  df_Bus['android.sensor.gyroscope_uncalibrated#mean'].mean(), 1  )\n",
    "gyroscope_uncalibrated_Still    = round(  df_Still['android.sensor.gyroscope_uncalibrated#mean'].mean(), 1  )\n",
    "\n",
    "\n",
    "game_rotation_vector_Walking  = round(  df_Walking['android.sensor.game_rotation_vector#mean'].mean(), 1  )\n",
    "game_rotation_vector_Train    = round(  df_Train['android.sensor.game_rotation_vector#mean'].mean(), 1  )\n",
    "game_rotation_vector_Car      = round(  df_Car['android.sensor.game_rotation_vector#mean'].mean(), 1  )\n",
    "game_rotation_vector_Bus      = round(  df_Bus['android.sensor.game_rotation_vector#mean'].mean(), 1  )\n",
    "game_rotation_vector_Still    = round(  df_Still['android.sensor.game_rotation_vector#mean'].mean(), 1  )\n",
    "\n",
    "\n",
    "magnetic_field_uncalibrated_Walking  = round(  df_Walking['android.sensor.magnetic_field_uncalibrated#mean'].mean(), 1  )\n",
    "magnetic_field_uncalibrated_Train    = round(  df_Train['android.sensor.magnetic_field_uncalibrated#mean'].mean(), 1  )\n",
    "magnetic_field_uncalibrated_Car      = round(  df_Car['android.sensor.magnetic_field_uncalibrated#mean'].mean(), 1  )\n",
    "magnetic_field_uncalibrated_Bus      = round(  df_Bus['android.sensor.magnetic_field_uncalibrated#mean'].mean(), 1  )\n",
    "magnetic_field_uncalibrated_Still    = round(  df_Still['android.sensor.magnetic_field_uncalibrated#mean'].mean(), 1  )\n",
    "\n",
    "\n",
    "sound_Walking  = round(  df_Walking['sound#mean'].mean(), 1  )\n",
    "sound_Train    = round(  df_Train['sound#mean'].mean(), 1  )\n",
    "sound_Car      = round(  df_Car['sound#mean'].mean(), 1  )\n",
    "sound_Bus      = round(  df_Bus['sound#mean'].mean(), 1  )\n",
    "sound_Still    = round(  df_Still['sound#mean'].mean(), 1  )\n",
    "\n",
    "\n",
    "light_Walking  = round(  df_Walking['android.sensor.light#mean'].mean(), 1  )\n",
    "light_Train    = round(  df_Train['android.sensor.light#mean'].mean(), 1  )\n",
    "light_Car      = round(  df_Car['android.sensor.light#mean'].mean(), 1  )\n",
    "light_Bus      = round(  df_Bus['android.sensor.light#mean'].mean(), 1  )\n",
    "light_Still    = round(  df_Still['android.sensor.light#mean'].mean(), 1  )\n",
    "\n",
    "\n",
    "speed_Walking  = round(  df_Walking['speed#mean'].mean(), 1  )\n",
    "speed_Train    = round(  df_Train['speed#mean'].mean(), 1  )\n",
    "speed_Car      = round(  df_Car['speed#mean'].mean(), 1  )\n",
    "speed_Bus      = round(  df_Bus['speed#mean'].mean(), 1  )\n",
    "speed_Still    = round(  df_Still['speed#mean'].mean(), 1  )\n",
    "\n",
    "\n",
    "index_colums = ['Walking', 'Train', 'Car', 'Bus', 'Still']\n",
    "\n",
    "comparision = pd.DataFrame( \n",
    "     { \n",
    "          'Accelerometer'                : [accelerometer_Walking,                   accelerometer_Train,               accelerometer_Car,                 accelerometer_Bus,                 accelerometer_Still],\n",
    "          'Magnetic Field'               : [magnetic_field_Walking,                  magnetic_field_Train,              magnetic_field_Car,                magnetic_field_Bus,                magnetic_field_Still],\n",
    "          'Orientation'                  : [orientation_Walking,                     orientation_Train,                 orientation_Car,                   orientation_Bus,                   orientation_Still],\n",
    "          'Gravity'                      : [gravity_Walking,                         gravity_Train,                     gravity_Car,                       gravity_Bus,                       gravity_Still],\n",
    "          'Linear Acceleration'          : [linear_acceleration_Walking,             linear_acceleration_Train,         linear_acceleration_Car,           linear_acceleration_Bus,           linear_acceleration_Still],\n",
    "          'Gyroscope'                    : [gyroscope_Walking,                       gyroscope_Train,                   gyroscope_Car,                     gyroscope_Bus,                     gyroscope_Still],\n",
    "          'Rotation Vector'              : [rotation_vector_Walking,                 rotation_vector_Train,             rotation_vector_Car,               rotation_vector_Bus,               rotation_vector_Still],\n",
    "          'Gyroscope Uncalibrated'       : [gyroscope_uncalibrated_Walking,          gyroscope_uncalibrated_Train,      gyroscope_uncalibrated_Car,        gyroscope_uncalibrated_Bus,        gyroscope_uncalibrated_Still],\n",
    "          'Game Rotation Vector'         : [game_rotation_vector_Walking,            game_rotation_vector_Train,        game_rotation_vector_Car,          game_rotation_vector_Bus,          game_rotation_vector_Still],\n",
    "          'Magnetic Field Uncalibrated'  : [magnetic_field_uncalibrated_Walking,     magnetic_field_uncalibrated_Train, magnetic_field_uncalibrated_Car,   magnetic_field_uncalibrated_Bus,   magnetic_field_uncalibrated_Still],\n",
    "          'Sound'                        : [sound_Walking,                           sound_Train,                       sound_Car,                         sound_Bus,                         sound_Still],     \n",
    "          'Light'                        : [light_Walking,                           light_Train,                       light_Car,                         light_Bus,                         light_Still],\n",
    "          'Speed'                        : [speed_Walking,                           speed_Train,                       speed_Car,                         speed_Bus,                         speed_Still]                 \n",
    "     }, \n",
    "     \n",
    "     index=index_colums\n",
    "     \n",
    "     )\n",
    "\n",
    "comparision.index\n",
    "\n",
    "\n"
   ]
  },
  {
   "cell_type": "code",
   "execution_count": 311,
   "metadata": {},
   "outputs": [],
   "source": [
    "comparision.to_csv('dropping_features_justification.csv')"
   ]
  },
  {
   "cell_type": "code",
   "execution_count": 310,
   "metadata": {},
   "outputs": [
    {
     "data": {
      "text/plain": [
       "([0, 1, 2, 3, 4],\n",
       " [Text(0, 0, ''),\n",
       "  Text(0, 0, ''),\n",
       "  Text(0, 0, ''),\n",
       "  Text(0, 0, ''),\n",
       "  Text(0, 0, '')])"
      ]
     },
     "execution_count": 310,
     "metadata": {},
     "output_type": "execute_result"
    },
    {
     "data": {
      "image/png": "[encoded data removed]",
      "text/plain": [
       "<Figure size 1152x864 with 13 Axes>"
      ]
     },
     "metadata": {
      "needs_background": "light"
     },
     "output_type": "display_data"
    }
   ],
   "source": [
    "plt.figure(figsize=(16, 12))\n",
    "\n",
    "plt.subplot(4,7,1)\n",
    "plt.bar(comparision.index, comparision['Accelerometer'])\n",
    "plt.ylabel('Accelerometer')\n",
    "plt.xticks(rotation=45)\n",
    "\n",
    "plt.subplot(4,7,3)\n",
    "plt.bar(comparision.index, comparision['Magnetic Field'])\n",
    "plt.ylabel('Magnetic Field')\n",
    "plt.xticks(rotation=45)\n",
    "\n",
    "plt.subplot(4,7,5)\n",
    "plt.bar(comparision.index, comparision['Orientation'])\n",
    "plt.ylabel('Magnetic Field')\n",
    "plt.xticks(rotation=45)\n",
    "\n",
    "plt.subplot(4,7,7)\n",
    "plt.bar(comparision.index, comparision['Gravity'])\n",
    "plt.ylabel('Gravity')\n",
    "plt.xticks(rotation=45)\n",
    "\n",
    "plt.subplot(4,7,8)\n",
    "plt.bar(comparision.index, comparision['Linear Acceleration'])\n",
    "plt.ylabel('Linear Acceleration')\n",
    "plt.xticks(rotation=45)\n",
    "\n",
    "plt.subplot(4,7,10)\n",
    "plt.bar(comparision.index, comparision['Gyroscope'])\n",
    "plt.ylabel('Gyroscope')\n",
    "plt.xticks(rotation=45)\n",
    "\n",
    "plt.subplot(4,7,12)\n",
    "plt.bar(comparision.index, comparision['Rotation Vector'])\n",
    "plt.ylabel('Rotation Vector')\n",
    "plt.xticks(rotation=45)\n",
    "\n",
    "plt.subplot(4,7,14)\n",
    "plt.bar(comparision.index, comparision['Gyroscope Uncalibrated'])\n",
    "plt.ylabel('Gyroscope Uncalibrated')\n",
    "plt.xticks(rotation=45)\n",
    "\n",
    "plt.subplot(4,7,15)\n",
    "plt.bar(comparision.index, comparision['Game Rotation Vector' ])\n",
    "plt.ylabel('Game Rotation Vector')\n",
    "plt.xticks(rotation=45)\n",
    "\n",
    "plt.subplot(4,7,17)\n",
    "plt.bar(comparision.index, comparision['Magnetic Field Uncalibrated'])\n",
    "plt.ylabel('Magnetic Field Uncalibrated')\n",
    "plt.xticks(rotation=45)\n",
    "\n",
    "plt.subplot(4,7,19)\n",
    "plt.bar(comparision.index, comparision['Sound'])\n",
    "plt.ylabel('Sound')\n",
    "plt.xticks(rotation=45)\n",
    "\n",
    "plt.subplot(4,7,21)\n",
    "plt.bar(comparision.index, comparision['Light'])\n",
    "plt.ylabel('Light')\n",
    "plt.xticks(rotation=45)\n",
    "\n",
    "plt.subplot(4,7,24)\n",
    "plt.bar(comparision.index, comparision['Speed'])\n",
    "plt.ylabel('Speed')\n",
    "plt.xticks(rotation=45)\n",
    "\n"
   ]
  },
  {
   "cell_type": "code",
   "execution_count": 204,
   "metadata": {},
   "outputs": [],
   "source": [
    "# df_train.columns.unique"
   ]
  },
  {
   "cell_type": "code",
   "execution_count": null,
   "metadata": {},
   "outputs": [],
   "source": []
  },
  {
   "cell_type": "code",
   "execution_count": 312,
   "metadata": {},
   "outputs": [
    {
     "data": {
      "text/html": [
       "<div>\n",
       "<style scoped>\n",
       "    .dataframe tbody tr th:only-of-type {\n",
       "        vertical-align: middle;\n",
       "    }\n",
       "\n",
       "    .dataframe tbody tr th {\n",
       "        vertical-align: top;\n",
       "    }\n",
       "\n",
       "    .dataframe thead th {\n",
       "        text-align: right;\n",
       "    }\n",
       "</style>\n",
       "<table border=\"1\" class=\"dataframe\">\n",
       "  <thead>\n",
       "    <tr style=\"text-align: right;\">\n",
       "      <th></th>\n",
       "      <th>Total Users</th>\n",
       "      <th>Missing Values</th>\n",
       "      <th>Differences</th>\n",
       "      <th>% missing</th>\n",
       "    </tr>\n",
       "    <tr>\n",
       "      <th>Sensor</th>\n",
       "      <th></th>\n",
       "      <th></th>\n",
       "      <th></th>\n",
       "      <th></th>\n",
       "    </tr>\n",
       "  </thead>\n",
       "  <tbody>\n",
       "    <tr>\n",
       "      <th>Recognition</th>\n",
       "      <td>62585</td>\n",
       "      <td>0</td>\n",
       "      <td>62585</td>\n",
       "      <td>0.0</td>\n",
       "    </tr>\n",
       "    <tr>\n",
       "      <th>User</th>\n",
       "      <td>62585</td>\n",
       "      <td>0</td>\n",
       "      <td>62585</td>\n",
       "      <td>0.0</td>\n",
       "    </tr>\n",
       "    <tr>\n",
       "      <th>Accelerometer</th>\n",
       "      <td>62585</td>\n",
       "      <td>0</td>\n",
       "      <td>62585</td>\n",
       "      <td>0.0</td>\n",
       "    </tr>\n",
       "  </tbody>\n",
       "</table>\n",
       "</div>"
      ],
      "text/plain": [
       "               Total Users  Missing Values  Differences  % missing\n",
       "Sensor                                                            \n",
       "Recognition          62585               0        62585        0.0\n",
       "User                 62585               0        62585        0.0\n",
       "Accelerometer        62585               0        62585        0.0"
      ]
     },
     "execution_count": 312,
     "metadata": {},
     "output_type": "execute_result"
    }
   ],
   "source": [
    "miss_data = pd.read_csv('missing_values.csv', index_col=[0])\n",
    "\n",
    "miss_data['% missing'] = round(  (( miss_data['Total Users'] -  miss_data['Differences'] ) / miss_data['Total Users']) * 100,  1)\n",
    "\n",
    "fig = miss_data.sort_values('Missing Values', ascending=True)\n",
    "\n",
    "#  miss_data.groupby(miss_data['Missing Values'])\n",
    "fig.shape\n",
    "fig.head(3)"
   ]
  },
  {
   "cell_type": "code",
   "execution_count": 104,
   "metadata": {},
   "outputs": [
    {
     "data": {
      "text/plain": [
       "(array([    0., 10000., 20000., 30000., 40000., 50000., 60000., 70000.]),\n",
       " [Text(0, 0, ''),\n",
       "  Text(0, 0, ''),\n",
       "  Text(0, 0, ''),\n",
       "  Text(0, 0, ''),\n",
       "  Text(0, 0, ''),\n",
       "  Text(0, 0, ''),\n",
       "  Text(0, 0, ''),\n",
       "  Text(0, 0, '')])"
      ]
     },
     "execution_count": 104,
     "metadata": {},
     "output_type": "execute_result"
    },
    {
     "data": {
      "image/png": "[encoded data removed]",
      "text/plain": [
       "<Figure size 1152x576 with 1 Axes>"
      ]
     },
     "metadata": {
      "needs_background": "light"
     },
     "output_type": "display_data"
    }
   ],
   "source": [
    "plt.figure(figsize=(16, 8))\n",
    "# ax = fig.add_axes([0,0,1,1])\n",
    "\n",
    "X = np.arange(18)\n",
    "#X = np.arange(len(df_excel['Three Features']))  # Find the \n",
    "\n",
    "# plt.bar(X + 0.0, fig['Total Users'], color = 'b', width = 0.2)\n",
    "# plt.bar(X + 0.2, fig['Missing Values'], color = 'g', width = 0.2)\n",
    "# plt.bar(X + 0.4, fig['Differences'], color = 'r', width = 0.2)\n",
    "\n",
    "\n",
    "plt.bar(X, fig['Differences'],     width=0.6, bottom=fig['Missing Values'], color='g')\n",
    "plt.bar(X, fig['Missing Values'],  width=0.6,                        color='r')\n",
    "\n",
    "plt.ylabel('Number of Data', fontsize=30)\n",
    "plt.xlabel('Features', fontsize=30)\n",
    "plt.title('A graph of the Number of data as a function of the Features', fontsize=20)\n",
    "plt.ylim(0, 70000)\n",
    "plt.xticks(X, fig.index, rotation=90, fontsize=15 )\n",
    "# plt.text(X, fig['% missing'], fig['% missing'] )\n",
    "\n",
    "plt.yticks(fontsize=20)\n",
    "# plt.legend(labels=['Three Features', 'Eight Features', 'Nine Features'], fontsize=16)\n",
    "# plt.text(X, fig['% missing'], fig['% missing'] )"
   ]
  },
  {
   "cell_type": "code",
   "execution_count": 322,
   "metadata": {},
   "outputs": [],
   "source": [
    "columns_three_features        = ['android.sensor.gyroscope#mean', 'speed#mean', 'android.sensor.magnetic_field#mean']\n",
    "columns_four_features      = ['android.sensor.gyroscope#mean', 'speed#mean', 'android.sensor.magnetic_field#mean', 'android.sensor.rotation_vector#mean']\n",
    "columns_thirteen_features  =['android.sensor.accelerometer#mean', 'android.sensor.magnetic_field#mean', 'android.sensor.orientation#mean', 'android.sensor.gravity#mean', 'android.sensor.linear_acceleration#mean', 'android.sensor.gyroscope#mean', 'android.sensor.rotation_vector#mean', 'android.sensor.gyroscope_uncalibrated#mean', 'android.sensor.game_rotation_vector#mean', 'android.sensor.magnetic_field_uncalibrated#mean', 'sound#mean', 'android.sensor.light#mean', 'speed#mean' ]\n",
    "\n",
    "target = 'target'\n"
   ]
  },
  {
   "cell_type": "code",
   "execution_count": 319,
   "metadata": {},
   "outputs": [
    {
     "data": {
      "text/html": [
       "<div>\n",
       "<style scoped>\n",
       "    .dataframe tbody tr th:only-of-type {\n",
       "        vertical-align: middle;\n",
       "    }\n",
       "\n",
       "    .dataframe tbody tr th {\n",
       "        vertical-align: top;\n",
       "    }\n",
       "\n",
       "    .dataframe thead th {\n",
       "        text-align: right;\n",
       "    }\n",
       "</style>\n",
       "<table border=\"1\" class=\"dataframe\">\n",
       "  <thead>\n",
       "    <tr style=\"text-align: right;\">\n",
       "      <th></th>\n",
       "      <th>Unnamed: 0</th>\n",
       "      <th>activityrecognition#1</th>\n",
       "      <th>android.sensor.accelerometer#mean</th>\n",
       "      <th>android.sensor.game_rotation_vector#mean</th>\n",
       "      <th>android.sensor.gravity#mean</th>\n",
       "      <th>android.sensor.gyroscope#mean</th>\n",
       "      <th>android.sensor.gyroscope_uncalibrated#mean</th>\n",
       "      <th>android.sensor.linear_acceleration#mean</th>\n",
       "      <th>android.sensor.magnetic_field#mean</th>\n",
       "      <th>android.sensor.magnetic_field_uncalibrated#mean</th>\n",
       "      <th>android.sensor.orientation#mean</th>\n",
       "      <th>android.sensor.rotation_vector#mean</th>\n",
       "      <th>sound#mean</th>\n",
       "      <th>speed#mean</th>\n",
       "      <th>user</th>\n",
       "      <th>target</th>\n",
       "    </tr>\n",
       "  </thead>\n",
       "  <tbody>\n",
       "    <tr>\n",
       "      <th>0</th>\n",
       "      <td>5355</td>\n",
       "      <td>100.0</td>\n",
       "      <td>9.503041</td>\n",
       "      <td>0.808288</td>\n",
       "      <td>9.806651</td>\n",
       "      <td>0.056170</td>\n",
       "      <td>0.074991</td>\n",
       "      <td>0.268178</td>\n",
       "      <td>29.522159</td>\n",
       "      <td>152.922977</td>\n",
       "      <td>312.034733</td>\n",
       "      <td>0.925456</td>\n",
       "      <td>100.0</td>\n",
       "      <td>8.0</td>\n",
       "      <td>1</td>\n",
       "      <td>Bus</td>\n",
       "    </tr>\n",
       "    <tr>\n",
       "      <th>1</th>\n",
       "      <td>60234</td>\n",
       "      <td>100.0</td>\n",
       "      <td>5.341914</td>\n",
       "      <td>0.693870</td>\n",
       "      <td>9.806650</td>\n",
       "      <td>2.098850</td>\n",
       "      <td>1.417308</td>\n",
       "      <td>6.519720</td>\n",
       "      <td>34.267394</td>\n",
       "      <td>103.377094</td>\n",
       "      <td>91.785124</td>\n",
       "      <td>0.661965</td>\n",
       "      <td>100.0</td>\n",
       "      <td>1.5</td>\n",
       "      <td>1</td>\n",
       "      <td>Walking</td>\n",
       "    </tr>\n",
       "    <tr>\n",
       "      <th>2</th>\n",
       "      <td>59781</td>\n",
       "      <td>100.0</td>\n",
       "      <td>10.232711</td>\n",
       "      <td>0.775908</td>\n",
       "      <td>9.806650</td>\n",
       "      <td>1.653144</td>\n",
       "      <td>0.319756</td>\n",
       "      <td>5.723122</td>\n",
       "      <td>62.838451</td>\n",
       "      <td>160.361432</td>\n",
       "      <td>201.554463</td>\n",
       "      <td>0.931355</td>\n",
       "      <td>100.0</td>\n",
       "      <td>1.5</td>\n",
       "      <td>1</td>\n",
       "      <td>Walking</td>\n",
       "    </tr>\n",
       "  </tbody>\n",
       "</table>\n",
       "</div>"
      ],
      "text/plain": [
       "   Unnamed: 0  activityrecognition#1  android.sensor.accelerometer#mean  \\\n",
       "0        5355                  100.0                           9.503041   \n",
       "1       60234                  100.0                           5.341914   \n",
       "2       59781                  100.0                          10.232711   \n",
       "\n",
       "   android.sensor.game_rotation_vector#mean  android.sensor.gravity#mean  \\\n",
       "0                                  0.808288                     9.806651   \n",
       "1                                  0.693870                     9.806650   \n",
       "2                                  0.775908                     9.806650   \n",
       "\n",
       "   android.sensor.gyroscope#mean  android.sensor.gyroscope_uncalibrated#mean  \\\n",
       "0                       0.056170                                    0.074991   \n",
       "1                       2.098850                                    1.417308   \n",
       "2                       1.653144                                    0.319756   \n",
       "\n",
       "   android.sensor.linear_acceleration#mean  \\\n",
       "0                                 0.268178   \n",
       "1                                 6.519720   \n",
       "2                                 5.723122   \n",
       "\n",
       "   android.sensor.magnetic_field#mean  \\\n",
       "0                           29.522159   \n",
       "1                           34.267394   \n",
       "2                           62.838451   \n",
       "\n",
       "   android.sensor.magnetic_field_uncalibrated#mean  \\\n",
       "0                                       152.922977   \n",
       "1                                       103.377094   \n",
       "2                                       160.361432   \n",
       "\n",
       "   android.sensor.orientation#mean  android.sensor.rotation_vector#mean  \\\n",
       "0                       312.034733                             0.925456   \n",
       "1                        91.785124                             0.661965   \n",
       "2                       201.554463                             0.931355   \n",
       "\n",
       "   sound#mean  speed#mean  user   target  \n",
       "0       100.0         8.0     1      Bus  \n",
       "1       100.0         1.5     1  Walking  \n",
       "2       100.0         1.5     1  Walking  "
      ]
     },
     "execution_count": 319,
     "metadata": {},
     "output_type": "execute_result"
    }
   ],
   "source": [
    "\n"
   ]
  },
  {
   "cell_type": "code",
   "execution_count": 329,
   "metadata": {},
   "outputs": [],
   "source": []
  },
  {
   "cell_type": "code",
   "execution_count": 3,
   "metadata": {},
   "outputs": [
    {
     "name": "stdout",
     "output_type": "stream",
     "text": [
      "95.7\n",
      "95.7\n",
      "67.1\n"
     ]
    }
   ],
   "source": [
    "cleaned_data = pd.read_csv('40k_rows.csv')\n",
    "\n",
    "columns_3_features = ['android.sensor.gyroscope#mean', 'speed#mean', 'android.sensor.magnetic_field#mean']\n",
    "target = 'target'\n",
    "\n",
    "X_3 = cleaned_data[columns_3_features]\n",
    "y  = cleaned_data[target]\n",
    "\n",
    "from sklearn.model_selection import train_test_split\n",
    "\n",
    "X_train_3, X_test_3, y_train_3, y_test_3 = train_test_split(X_3, y, random_state=0, stratify=y)\n",
    "\n",
    "model_decision_tree_3 = DecisionTreeClassifier()\n",
    "model_random_forest_3 = RandomForestClassifier()\n",
    "model_SVC_3           = SVC()\n",
    "\n",
    "model_decision_tree_3.fit(X_train_3, y_train_3)\n",
    "model_random_forest_3.fit(X_train_3, y_train_3)\n",
    "model_SVC_3.fit(X_train_3, y_train_3)\n",
    "\n",
    "accuracy_decision_tree_3 = round(model_decision_tree_3.score(X_test_3, y_test_3) * 100, 1)\n",
    "accuracy_random_forest_3 = round(model_random_forest_3.score(X_test_3, y_test_3) * 100, 1)\n",
    "accuracy_SVC_3           = round(model_SVC_3.score(X_test_3, y_test_3) * 100, 1)\n",
    "\n",
    "print(accuracy_decision_tree_3)\n",
    "print(accuracy_random_forest_3)\n",
    "print(accuracy_SVC_3)"
   ]
  },
  {
   "cell_type": "code",
   "execution_count": null,
   "metadata": {},
   "outputs": [],
   "source": [
    "# accuracy_decision_tree_3 = round(model_decision_tree_3.score(X_train_3, y_train_3) * 100, 1)\n",
    "# accuracy_random_forest_3 = round(model_random_forest_3.score(X_train_3, y_train_3) * 100, 1)\n",
    "# accuracy_SVC_3           = round(model_SVC_3.score(X_train_3, y_train_3) * 100, 1)\n",
    "\n",
    "# print(accuracy_decision_tree_3)\n",
    "# print(accuracy_random_forest_3)\n",
    "# print(accuracy_SVC_3)"
   ]
  },
  {
   "cell_type": "code",
   "execution_count": 334,
   "metadata": {},
   "outputs": [
    {
     "name": "stdout",
     "output_type": "stream",
     "text": [
      "95.8\n",
      "95.7\n",
      "67.1\n"
     ]
    }
   ],
   "source": [
    "\n",
    "\n"
   ]
  },
  {
   "cell_type": "code",
   "execution_count": 2,
   "metadata": {},
   "outputs": [
    {
     "name": "stdout",
     "output_type": "stream",
     "text": [
      "97.2\n",
      "98.7\n",
      "67.1\n"
     ]
    }
   ],
   "source": [
    "\n",
    "\n",
    "cleaned_data = pd.read_csv('40k_rows.csv')\n",
    "\n",
    "columns_4_features = ['android.sensor.gyroscope#mean', 'speed#mean', 'android.sensor.magnetic_field#mean', 'android.sensor.rotation_vector#mean']\n",
    "target = 'target'\n",
    "\n",
    "X_4 = cleaned_data[columns_4_features]\n",
    "y  = cleaned_data[target]\n",
    "\n",
    "from sklearn.model_selection import train_test_split\n",
    "\n",
    "X_train_4, X_test_4, y_train_4, y_test_4 = train_test_split(X_4, y, random_state=0, stratify=y)\n",
    "\n",
    "model_decision_tree_4 = DecisionTreeClassifier()\n",
    "model_random_forest_4 = RandomForestClassifier()\n",
    "model_SVC_4           = SVC()\n",
    "\n",
    "model_decision_tree_4.fit(X_train_4, y_train_4)\n",
    "model_random_forest_4.fit(X_train_4, y_train_4)\n",
    "model_SVC_4.fit(X_train_4, y_train_4)\n",
    "\n",
    "accuracy_decision_tree_4 = round(model_decision_tree_4.score(X_test_4, y_test_4) * 100, 1)\n",
    "accuracy_random_forest_4 = round(model_random_forest_4.score(X_test_4, y_test_4) * 100, 1)\n",
    "accuracy_SVC_4           = round(model_SVC_4.score(X_test_4, y_test_4) * 100, 1)\n",
    "\n",
    "print(accuracy_decision_tree_4)\n",
    "print(accuracy_random_forest_4)\n",
    "print(accuracy_SVC_4)"
   ]
  },
  {
   "cell_type": "code",
   "execution_count": 4,
   "metadata": {},
   "outputs": [
    {
     "name": "stdout",
     "output_type": "stream",
     "text": [
      "99.1\n",
      "99.7\n",
      "88.2\n"
     ]
    }
   ],
   "source": [
    "columns_12_features  =['android.sensor.accelerometer#mean', 'android.sensor.magnetic_field#mean', 'android.sensor.orientation#mean', 'android.sensor.gravity#mean', 'android.sensor.linear_acceleration#mean', 'android.sensor.gyroscope#mean', 'android.sensor.rotation_vector#mean', 'android.sensor.gyroscope_uncalibrated#mean', 'android.sensor.game_rotation_vector#mean', 'android.sensor.magnetic_field_uncalibrated#mean', 'sound#mean',  'speed#mean' ]\n",
    "\n",
    "\n",
    "cleaned_data = pd.read_csv('40k_rows.csv')\n",
    "\n",
    "columns_12_features  =['android.sensor.accelerometer#mean', 'android.sensor.magnetic_field#mean', 'android.sensor.orientation#mean', 'android.sensor.gravity#mean', 'android.sensor.linear_acceleration#mean', 'android.sensor.gyroscope#mean', 'android.sensor.rotation_vector#mean', 'android.sensor.gyroscope_uncalibrated#mean', 'android.sensor.game_rotation_vector#mean', 'android.sensor.magnetic_field_uncalibrated#mean', 'sound#mean',  'speed#mean' ]\n",
    "\n",
    "target = 'target'\n",
    "\n",
    "X_12 = cleaned_data[columns_12_features]\n",
    "y  = cleaned_data[target]\n",
    "\n",
    "from sklearn.model_selection import train_test_split\n",
    "\n",
    "X_train_12, X_test_12, y_train_12, y_test_12 = train_test_split(X_12, y, random_state=0, stratify=y)\n",
    "\n",
    "model_decision_tree_12 = DecisionTreeClassifier()\n",
    "model_random_forest_12 = RandomForestClassifier()\n",
    "model_SVC_12           = SVC()\n",
    "\n",
    "model_decision_tree_12.fit(X_train_12, y_train_12)\n",
    "model_random_forest_12.fit(X_train_12, y_train_12)\n",
    "model_SVC_12.fit(X_train_12, y_train_12)\n",
    "\n",
    "accuracy_decision_tree_12 = round(model_decision_tree_12.score(X_test_12, y_test_12) * 100, 1)\n",
    "accuracy_random_forest_12 = round(model_random_forest_12.score(X_test_12, y_test_12) * 100, 1)\n",
    "accuracy_SVC_12           = round(model_SVC_12.score(X_test_12, y_test_12) * 100, 1)\n",
    "\n",
    "print(accuracy_decision_tree_12)\n",
    "print(accuracy_random_forest_12)\n",
    "print(accuracy_SVC_12)"
   ]
  },
  {
   "cell_type": "markdown",
   "metadata": {},
   "source": [
    "# FUNCTION TO FIND THE ACCURACY"
   ]
  },
  {
   "cell_type": "code",
   "execution_count": 7,
   "metadata": {},
   "outputs": [],
   "source": [
    "\n",
    "\n",
    "def accuracy(name_file, columns_of_features):\n",
    "\n",
    "     cleaned_data = pd.read_csv(name_file)\n",
    "\n",
    "     features  = columns_of_features\n",
    "     target    = 'target'\n",
    "\n",
    "     X = cleaned_data[features]\n",
    "     y = cleaned_data[target]\n",
    "\n",
    "     X_train, X_test, y_train, y_test = train_test_split(X, y, random_state=0, stratify=y)\n",
    "\n",
    "     model_decision_tree = DecisionTreeClassifier()\n",
    "     model_random_forest = RandomForestClassifier()\n",
    "     model_SVC           = SVC()\n",
    "\n",
    "     model_decision_tree.fit(X_train, y_train)\n",
    "     model_random_forest.fit(X_train, y_train)\n",
    "     model_SVC.fit(X_train, y_train)\n",
    "\n",
    "     accuracy_decision_tree = round(model_decision_tree.score(X_test, y_test) * 100, 1)\n",
    "     accuracy_random_forest = round(model_random_forest.score(X_test, y_test) * 100, 1)\n",
    "     accuracy_SVC           = round(model_SVC.score(X_test, y_test) * 100, 1)\n",
    "\n",
    "     print('Decision Tree Accuracy : ', accuracy_decision_tree)\n",
    "     print('Random Forest Accuracy : ', accuracy_random_forest)\n",
    "     print('SVC Accuracy           : ', accuracy_SVC)\n",
    "\n",
    "     return accuracy_decision_tree, accuracy_random_forest, accuracy_SVC\n",
    "\n"
   ]
  },
  {
   "cell_type": "markdown",
   "metadata": {},
   "source": [
    "# TWO FEATURES"
   ]
  },
  {
   "cell_type": "code",
   "execution_count": 18,
   "metadata": {},
   "outputs": [
    {
     "name": "stdout",
     "output_type": "stream",
     "text": [
      "Decision Tree Accuracy :  72.8\n",
      "Random Forest Accuracy :  77.5\n",
      "SVC Accuracy           :  40.0\n"
     ]
    },
    {
     "data": {
      "text/plain": [
       "(72.8, 77.5, 40.0)"
      ]
     },
     "execution_count": 18,
     "metadata": {},
     "output_type": "execute_result"
    }
   ],
   "source": [
    "\"\"\" Magnetic Field and Gyroscope\"\"\"\n",
    "\n",
    "\n",
    "\n",
    "columns_features  = ['android.sensor.magnetic_field#mean', 'android.sensor.gyroscope#mean' ]\n",
    "name_file = '40k_rows.csv'\n",
    "\n",
    "accuracy(name_file, columns_features)\n",
    "\n"
   ]
  },
  {
   "cell_type": "code",
   "execution_count": 19,
   "metadata": {},
   "outputs": [
    {
     "name": "stdout",
     "output_type": "stream",
     "text": [
      "Decision Tree Accuracy :  95.8\n",
      "Random Forest Accuracy :  95.8\n",
      "SVC Accuracy           :  66.2\n"
     ]
    },
    {
     "data": {
      "text/plain": [
       "(95.8, 95.8, 66.2)"
      ]
     },
     "execution_count": 19,
     "metadata": {},
     "output_type": "execute_result"
    }
   ],
   "source": [
    "\"\"\" Magnetic Field and Speed \"\"\"\n",
    "\n",
    "columns_features  =['android.sensor.magnetic_field#mean',   'speed#mean' ]\n",
    "name_file = '40k_rows.csv'\n",
    "\n",
    "accuracy(name_file, columns_features)\n"
   ]
  },
  {
   "cell_type": "code",
   "execution_count": 20,
   "metadata": {},
   "outputs": [
    {
     "name": "stdout",
     "output_type": "stream",
     "text": [
      "Decision Tree Accuracy :  80.8\n",
      "Random Forest Accuracy :  84.4\n",
      "SVC Accuracy           :  34.8\n"
     ]
    },
    {
     "data": {
      "text/plain": [
       "(80.8, 84.4, 34.8)"
      ]
     },
     "execution_count": 20,
     "metadata": {},
     "output_type": "execute_result"
    }
   ],
   "source": [
    "\"\"\" Magnetic Field and Game Rotation Vector \"\"\"\n",
    "\n",
    "columns_features  =['android.sensor.magnetic_field#mean',  'android.sensor.game_rotation_vector#mean' ]\n",
    "name_file = '40k_rows.csv'\n",
    "\n",
    "accuracy(name_file, columns_features)"
   ]
  },
  {
   "cell_type": "code",
   "execution_count": 21,
   "metadata": {},
   "outputs": [
    {
     "name": "stdout",
     "output_type": "stream",
     "text": [
      "Decision Tree Accuracy :  93.1\n",
      "Random Forest Accuracy :  92.0\n",
      "SVC Accuracy           :  80.8\n"
     ]
    },
    {
     "data": {
      "text/plain": [
       "(93.1, 92.0, 80.8)"
      ]
     },
     "execution_count": 21,
     "metadata": {},
     "output_type": "execute_result"
    }
   ],
   "source": [
    "\"\"\" Gyroscope and Speed \"\"\"\n",
    "\n",
    "columns_features  =[ 'android.sensor.gyroscope#mean',  'speed#mean' ]\n",
    "name_file = '40k_rows.csv'\n",
    "\n",
    "accuracy(name_file, columns_features)"
   ]
  },
  {
   "cell_type": "code",
   "execution_count": 22,
   "metadata": {},
   "outputs": [
    {
     "name": "stdout",
     "output_type": "stream",
     "text": [
      "Decision Tree Accuracy :  69.9\n",
      "Random Forest Accuracy :  75.0\n",
      "SVC Accuracy           :  59.3\n"
     ]
    },
    {
     "data": {
      "text/plain": [
       "(69.9, 75.0, 59.3)"
      ]
     },
     "execution_count": 22,
     "metadata": {},
     "output_type": "execute_result"
    }
   ],
   "source": [
    "\"\"\" Gyroscope and Game Rotation Vector \"\"\"\n",
    "\n",
    "columns_features  =[ 'android.sensor.gyroscope#mean',  'android.sensor.game_rotation_vector#mean' ]\n",
    "name_file = '40k_rows.csv'\n",
    "\n",
    "accuracy(name_file, columns_features)"
   ]
  },
  {
   "cell_type": "code",
   "execution_count": 23,
   "metadata": {},
   "outputs": [
    {
     "name": "stdout",
     "output_type": "stream",
     "text": [
      "Decision Tree Accuracy :  96.0\n",
      "Random Forest Accuracy :  95.7\n",
      "SVC Accuracy           :  75.9\n"
     ]
    },
    {
     "data": {
      "text/plain": [
       "(96.0, 95.7, 75.9)"
      ]
     },
     "execution_count": 23,
     "metadata": {},
     "output_type": "execute_result"
    }
   ],
   "source": [
    "\"\"\" Speed and Game Rotation Vector \"\"\"\n",
    "\n",
    "columns_features  =[  'speed#mean', 'android.sensor.game_rotation_vector#mean' ]\n",
    "name_file = '40k_rows.csv'\n",
    "\n",
    "accuracy(name_file, columns_features)\n"
   ]
  },
  {
   "cell_type": "markdown",
   "metadata": {},
   "source": [
    "# THREE FEATURES"
   ]
  },
  {
   "cell_type": "code",
   "execution_count": 24,
   "metadata": {},
   "outputs": [
    {
     "name": "stdout",
     "output_type": "stream",
     "text": [
      "Decision Tree Accuracy :  95.7\n",
      "Random Forest Accuracy :  95.8\n",
      "SVC Accuracy           :  67.1\n"
     ]
    },
    {
     "data": {
      "text/plain": [
       "(95.7, 95.8, 67.1)"
      ]
     },
     "execution_count": 24,
     "metadata": {},
     "output_type": "execute_result"
    }
   ],
   "source": [
    "\"\"\" Magnetic Field,   Gyroscope,  and Speed \"\"\"\n",
    "\n",
    "\n",
    "columns_features  =['android.sensor.magnetic_field#mean', 'android.sensor.gyroscope#mean',  'speed#mean']\n",
    "name_file = '40k_rows.csv'\n",
    "\n",
    "accuracy(name_file, columns_features)\n"
   ]
  },
  {
   "cell_type": "code",
   "execution_count": 25,
   "metadata": {},
   "outputs": [
    {
     "name": "stdout",
     "output_type": "stream",
     "text": [
      "Decision Tree Accuracy :  84.8\n",
      "Random Forest Accuracy :  89.0\n",
      "SVC Accuracy           :  39.8\n"
     ]
    },
    {
     "data": {
      "text/plain": [
       "(84.8, 89.0, 39.8)"
      ]
     },
     "execution_count": 25,
     "metadata": {},
     "output_type": "execute_result"
    }
   ],
   "source": [
    "\"\"\" Magnetic Field,   Gyroscope,  and Game Rotation Vector \"\"\"\n",
    "\n",
    "columns_features  =['android.sensor.magnetic_field#mean', 'android.sensor.gyroscope#mean',   'android.sensor.game_rotation_vector#mean' ]\n",
    "name_file = '40k_rows.csv'\n",
    "\n",
    "accuracy(name_file, columns_features)"
   ]
  },
  {
   "cell_type": "code",
   "execution_count": 26,
   "metadata": {},
   "outputs": [
    {
     "name": "stdout",
     "output_type": "stream",
     "text": [
      "Decision Tree Accuracy :  97.8\n",
      "Random Forest Accuracy :  98.3\n",
      "SVC Accuracy           :  66.2\n"
     ]
    },
    {
     "data": {
      "text/plain": [
       "(97.8, 98.3, 66.2)"
      ]
     },
     "execution_count": 26,
     "metadata": {},
     "output_type": "execute_result"
    }
   ],
   "source": [
    "\"\"\" Magnetic Field,   Speed,  and Game Rotation Vector \"\"\"\n",
    "\n",
    "columns_features  =['android.sensor.magnetic_field#mean',   'speed#mean', 'android.sensor.game_rotation_vector#mean' ]\n",
    "name_file = '40k_rows.csv'\n",
    "\n",
    "accuracy(name_file, columns_features)"
   ]
  },
  {
   "cell_type": "code",
   "execution_count": 27,
   "metadata": {},
   "outputs": [
    {
     "name": "stdout",
     "output_type": "stream",
     "text": [
      "Decision Tree Accuracy :  95.8\n",
      "Random Forest Accuracy :  95.7\n",
      "SVC Accuracy           :  81.1\n"
     ]
    },
    {
     "data": {
      "text/plain": [
       "(95.8, 95.7, 81.1)"
      ]
     },
     "execution_count": 27,
     "metadata": {},
     "output_type": "execute_result"
    }
   ],
   "source": [
    "\"\"\" Gyroscope,   Speed,  and Game Rotation Vector \"\"\"\n",
    "\n",
    "columns_features  =[ 'android.sensor.gyroscope#mean',  'speed#mean', 'android.sensor.game_rotation_vector#mean' ]\n",
    "name_file = '40k_rows.csv'\n",
    "\n",
    "accuracy(name_file, columns_features)"
   ]
  },
  {
   "cell_type": "markdown",
   "metadata": {},
   "source": [
    "# FOUR FEATURES"
   ]
  },
  {
   "cell_type": "code",
   "execution_count": 28,
   "metadata": {},
   "outputs": [
    {
     "name": "stdout",
     "output_type": "stream",
     "text": [
      "Decision Tree Accuracy :  97.7\n",
      "Random Forest Accuracy :  98.6\n",
      "SVC Accuracy           :  67.5\n"
     ]
    },
    {
     "data": {
      "text/plain": [
       "(97.7, 98.6, 67.5)"
      ]
     },
     "execution_count": 28,
     "metadata": {},
     "output_type": "execute_result"
    }
   ],
   "source": [
    "columns_features  =['android.sensor.magnetic_field#mean', 'android.sensor.gyroscope#mean',  'speed#mean', 'android.sensor.game_rotation_vector#mean' ]\n",
    "name_file = '40k_rows.csv'\n",
    "\n",
    "accuracy(name_file, columns_features)"
   ]
  },
  {
   "cell_type": "markdown",
   "metadata": {},
   "source": [
    "# TWELVE FEATURES"
   ]
  },
  {
   "cell_type": "code",
   "execution_count": 29,
   "metadata": {},
   "outputs": [
    {
     "name": "stdout",
     "output_type": "stream",
     "text": [
      "Decision Tree Accuracy :  99.1\n",
      "Random Forest Accuracy :  99.7\n",
      "SVC Accuracy           :  88.2\n"
     ]
    },
    {
     "data": {
      "text/plain": [
       "(99.1, 99.7, 88.2)"
      ]
     },
     "execution_count": 29,
     "metadata": {},
     "output_type": "execute_result"
    }
   ],
   "source": [
    "columns_features  =['android.sensor.accelerometer#mean', 'android.sensor.magnetic_field#mean', 'android.sensor.orientation#mean', 'android.sensor.gravity#mean', 'android.sensor.linear_acceleration#mean', 'android.sensor.gyroscope#mean', 'android.sensor.rotation_vector#mean', 'android.sensor.gyroscope_uncalibrated#mean', 'android.sensor.game_rotation_vector#mean', 'android.sensor.magnetic_field_uncalibrated#mean', 'sound#mean',  'speed#mean' ]\n",
    "name_file = '40k_rows.csv'\n",
    "\n",
    "accuracy(name_file, columns_features)"
   ]
  },
  {
   "cell_type": "code",
   "execution_count": null,
   "metadata": {},
   "outputs": [],
   "source": []
  },
  {
   "cell_type": "code",
   "execution_count": null,
   "metadata": {},
   "outputs": [],
   "source": []
  }
 ],
 "metadata": {
  "interpreter": {
   "hash": "97b91b6d5003af60c654b6abfe8ac1e5d274e52e67a717d7df64331168b10d1c"
  },
  "kernelspec": {
   "display_name": "Python 3.8.12 ('pz')",
   "language": "python",
   "name": "python3"
  },
  "language_info": {
   "codemirror_mode": {
    "name": "ipython",
    "version": 3
   },
   "file_extension": ".py",
   "mimetype": "text/x-python",
   "name": "python",
   "nbconvert_exporter": "python",
   "pygments_lexer": "ipython3",
   "version": "3.8.12"
  },
  "orig_nbformat": 4
 },
 "nbformat": 4,
 "nbformat_minor": 2
}
