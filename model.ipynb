{
 "cells": [
  {
   "cell_type": "code",
   "execution_count": 32,
   "metadata": {},
   "outputs": [],
   "source": [
    "import pandas  as pd\n",
    "import numpy   as np\n",
    "import matplotlib.pyplot as plt\n",
    "\n",
    "from sklearn.model_selection import train_test_split\n",
    "\n",
    "from sklearn.tree        import DecisionTreeClassifier\n",
    "from sklearn.ensemble    import RandomForestClassifier\n",
    "from sklearn.svm         import SVC \n",
    "\n",
    "from sklearn.model_selection import train_test_split\n",
    "from sklearn.model_selection import GridSearchCV\n",
    "from sklearn.model_selection import cross_val_score\n",
    "from sklearn.model_selection import cross_validate"
   ]
  },
  {
   "cell_type": "code",
   "execution_count": 55,
   "metadata": {},
   "outputs": [],
   "source": [
    "\"\"\" READING THE DATA TRAINING DATA \"\"\"\n",
    "\n",
    "columns_names = [        'activityrecognition#1',\n",
    "                         'android.sensor.accelerometer#mean',\n",
    "                         'android.sensor.game_rotation_vector#mean',\n",
    "                         'android.sensor.gravity#mean', \n",
    "                         'android.sensor.gyroscope#mean',\n",
    "                         'android.sensor.gyroscope_uncalibrated#mean',\n",
    "                         'android.sensor.linear_acceleration#mean',\n",
    "                         'android.sensor.magnetic_field#mean',\n",
    "                         'android.sensor.magnetic_field_uncalibrated#mean',\n",
    "                         'android.sensor.orientation#mean',\n",
    "                         'android.sensor.rotation_vector#mean', \n",
    "                         'sound#mean', \n",
    "                         'speed#mean',\n",
    "                         'target'\n",
    "                ]\n",
    "\n",
    "dt_train       = pd.read_csv('train.csv')\n",
    "dt_validate    = pd.read_csv('validation.csv')\n",
    "dt_test        = pd.read_csv('test.csv')\n",
    "\n",
    "data_train     = dt_train[columns_names]\n",
    "data_validate  = dt_validate[columns_names]\n",
    "data_test      = dt_test[columns_names]\n",
    "\n",
    "X_train        = data_train.drop(['target'], axis=1)\n",
    "y_train        = data_train['target']\n",
    "\n",
    "X_validate     = data_validate.drop(['target'], axis=1)\n",
    "y_validate     = data_validate['target']\n",
    "\n",
    "X_test         = data_test.drop(['target'], axis=1)\n",
    "y_test         = data_test['target']\n"
   ]
  },
  {
   "cell_type": "markdown",
   "metadata": {},
   "source": [
    "# FIVE STEPS"
   ]
  },
  {
   "cell_type": "code",
   "execution_count": null,
   "metadata": {},
   "outputs": [],
   "source": [
    "\"\"\"\n",
    "Step 1. Fit the Model with the TRAIN DATA \n",
    "Step 2. Find the BEST hyperparameteres with the VALIDATION DATA\n",
    "Step 3. Test the model with the TEST DATA\n",
    "Step 4. Fit the model again with the hyperparameters settings included with a combined Train and Validation Data\n",
    "Step 5. Test the new model with the TEST data\n",
    "\"\"\""
   ]
  },
  {
   "cell_type": "code",
   "execution_count": 56,
   "metadata": {},
   "outputs": [
    {
     "data": {
      "text/plain": [
       "RandomForestClassifier()"
      ]
     },
     "execution_count": 56,
     "metadata": {},
     "output_type": "execute_result"
    }
   ],
   "source": [
    "\"\"\" STEP 1 \"\"\"\n"
   ]
  },
  {
   "cell_type": "code",
   "execution_count": 79,
   "metadata": {},
   "outputs": [
    {
     "name": "stdout",
     "output_type": "stream",
     "text": [
      "Best Validation Score      :  0.6342359361880773\n",
      "Best Validation Parameters :  {'n_estimators': 400}\n",
      "Best Test     Score      :  0.5469384505135759\n"
     ]
    }
   ],
   "source": [
    "\"\"\" STEP 1 and 2 \"\"\"\n",
    "\n",
    "best_score = 0\n",
    "\n",
    "for n_estimator in [ 500, 400, 800, 200, 100]:\n",
    "\n",
    "     \"\"\"Step 1\"\"\"\n",
    "     model_forest   = RandomForestClassifier(n_estimators=n_estimator)\n",
    "     model_forest.fit(X_train, y_train)\n",
    "\n",
    "     \"\"\"Step 2\"\"\"\n",
    "     score = model_forest.score(X_validate, y_validate)\n",
    "     if score > best_score:\n",
    "          best_score = score\n",
    "          best_parameters = {'n_estimators' : n_estimator}\n",
    "\n",
    "print('Best Validation Parameters : ', best_parameters)\n",
    "print('Best Validation Score      : ', best_score)\n",
    "\n",
    "\"\"\" Step 3\"\"\"\n",
    "model_forest_paraSetting = RandomForestClassifier(n_estimators=best_parameters['n_estimators'])\n",
    "model_forest_paraSetting.fit(X_train, y_train)\n",
    "score_paraSetting = model_forest_paraSetting.score(X_test, y_test)\n",
    "print('Best Test  Score           : ', score_paraSetting)\n",
    "\n"
   ]
  },
  {
   "cell_type": "code",
   "execution_count": 77,
   "metadata": {},
   "outputs": [
    {
     "data": {
      "text/plain": [
       "0.555935982164185"
      ]
     },
     "execution_count": 77,
     "metadata": {},
     "output_type": "execute_result"
    }
   ],
   "source": []
  },
  {
   "cell_type": "code",
   "execution_count": 74,
   "metadata": {},
   "outputs": [
    {
     "data": {
      "text/plain": [
       "0.5570507205987738"
      ]
     },
     "execution_count": 74,
     "metadata": {},
     "output_type": "execute_result"
    }
   ],
   "source": [
    "\n"
   ]
  },
  {
   "cell_type": "code",
   "execution_count": null,
   "metadata": {},
   "outputs": [],
   "source": []
  },
  {
   "cell_type": "code",
   "execution_count": null,
   "metadata": {},
   "outputs": [],
   "source": []
  },
  {
   "cell_type": "code",
   "execution_count": 40,
   "metadata": {},
   "outputs": [
    {
     "data": {
      "text/plain": [
       "({'fit_time': array([0.56082368, 0.30614996, 0.41547418, 0.32618141, 0.51728725]),\n",
       "  'score_time': array([0.        , 0.00320673, 0.        , 0.        , 0.0039506 ]),\n",
       "  'test_score': array([0.81026304, 0.89792984, 0.86500863, 0.90914319, 0.97929845]),\n",
       "  'train_score': array([1., 1., 1., 1., 1.])},\n",
       " {'fit_time': array([7.46812606, 9.32432199, 8.27504444, 9.05557489, 8.24660873]),\n",
       "  'score_time': array([0.08271742, 0.14042664, 0.15616488, 0.13512206, 0.14576507]),\n",
       "  'test_score': array([0.83038666, 0.89807361, 0.93257619, 0.956728  , 0.99511213]),\n",
       "  'train_score': array([1., 1., 1., 1., 1.])})"
      ]
     },
     "execution_count": 40,
     "metadata": {},
     "output_type": "execute_result"
    }
   ],
   "source": [
    "model_tree     = DecisionTreeClassifier()\n",
    "model_forest   = RandomForestClassifier()\n",
    "\n",
    "# val_score_tree = cross_val_score(model_tree, X_train, y_train)\n",
    "# val_score_forest = cross_val_score(model_forest, X_train, y_train)\n",
    "\n",
    "cross_val_tree = cross_validate(model_tree, X_train, y_train, return_train_score=True)\n",
    "cross_val_forest = cross_validate(model_forest, X_train, y_train, return_train_score=True)\n",
    "\n",
    "\n",
    "# cross_val_tree\n",
    "cross_val_tree, cross_val_forest "
   ]
  },
  {
   "cell_type": "code",
   "execution_count": 37,
   "metadata": {},
   "outputs": [],
   "source": [
    "model_tree     = DecisionTreeClassifier()\n",
    "model_forest   = RandomForestClassifier()\n",
    "# model_SVC           = SVC()\n",
    "\n",
    "model_tree.fit(X_train, y_train)\n",
    "model_forest.fit(X_train, y_train)\n",
    "# model_SVC.fit(X_train, y_train)\n",
    "\n",
    "accuracy_tree_validate   = round(model_tree.score(X_validate, y_validate) * 100, 1)\n",
    "accuracy_forest_validate = round(model_forest.score(X_validate, y_validate) * 100, 1)\n",
    "# accuracy_SVC_3         = round(model_SVC_3.score(X_validate, y_validate) * 100, 1)\n",
    "\n",
    "accuracy_tree_test   = round(model_tree.score(X_test, y_test) * 100, 1)\n",
    "accuracy_forest_test = round(model_forest.score(X_test, y_test) * 100, 1)\n",
    "# accuracy_SVC_3     = round(model_SVC_3.score(X_validate, y_validate) * 100, 1)\n",
    "\n",
    "\n"
   ]
  },
  {
   "cell_type": "code",
   "execution_count": null,
   "metadata": {},
   "outputs": [],
   "source": [
    "\"\"\"\n",
    "Splitting Data for Training, Validation, and Testing\n",
    "\n",
    "Once the data for building the model has been procured, it needs to be split into data for training, parameter tuning, and go-live testing. \n",
    "\n",
    "Conceptually, the available data is to be used for three distinct purposes. \n",
    "\n",
    "The first purpose is to train the model—that is, the model will try to fit this data. \n",
    "\n",
    "The second purpose is to determine whether the model is overfitting the data; this dataset is called the validation set. This data will not be used \n",
    "for training but will drive the decision-making on hyperparameter tuning, regularization techniques, etc. (We will discuss these topics in greater \n",
    "detail later in this chapter.) \n",
    "\n",
    "The third purpose of the data is to determine whether the model is really good enough to take to production/go-live (referred to as the test set).\n",
    "\n",
    "\"\"\""
   ]
  },
  {
   "cell_type": "code",
   "execution_count": 39,
   "metadata": {},
   "outputs": [
    {
     "name": "stdout",
     "output_type": "stream",
     "text": [
      "Validation Accuracy Tree :  48.5\n",
      "Validation Accuracy Forest :  63.2\n",
      "Test Accuracy Tree :  54.2\n",
      "Test Accuracy Forest :  46.7\n"
     ]
    }
   ],
   "source": [
    "print(\"Validation Accuracy Tree : \",    accuracy_tree_validate)\n",
    "print(\"Validation Accuracy Forest : \",  accuracy_forest_validate)\n",
    "# print(accuracy_SVC_3)\n",
    "\n",
    "\n",
    "print(\"Test Accuracy Tree : \",     accuracy_tree_test)\n",
    "print(\"Test Accuracy Forest : \",   accuracy_forest_test)\n",
    "# print(accuracy_SVC_3)\n",
    "\n",
    "# 48.6\n",
    "# 63.1"
   ]
  },
  {
   "cell_type": "code",
   "execution_count": 5,
   "metadata": {},
   "outputs": [],
   "source": [
    "\n"
   ]
  },
  {
   "cell_type": "code",
   "execution_count": 6,
   "metadata": {},
   "outputs": [
    {
     "data": {
      "text/plain": [
       "' ACCURACY WITH DEFAULT VALUES '"
      ]
     },
     "execution_count": 6,
     "metadata": {},
     "output_type": "execute_result"
    }
   ],
   "source": [
    "\"\"\" ACCURACY WITH DEFAULT VALUES \"\"\"\n",
    "\n",
    "# accuracy_decision_tree_3 = round(model_decision_tree_3.score(X_validate, y_validate) * 100, 1)\n",
    "# accuracy_random_forest_3 = round(model_random_forest_3.score(X_validate, y_validate) * 100, 1)\n",
    "# accuracy_SVC_3           = round(model_SVC_3.score(X_validate, y_validate) * 100, 1)\n",
    "\n",
    "# print(accuracy_decision_tree_3)\n",
    "# print(accuracy_random_forest_3)\n",
    "# print(accuracy_SVC_3)\n",
    "\n",
    "# # 47.9\n",
    "# # 58.4\n",
    "# # 38.7"
   ]
  },
  {
   "cell_type": "code",
   "execution_count": 7,
   "metadata": {},
   "outputs": [],
   "source": [
    "# param_DecisionTree  = {'max_depth'   : [3, 4, 5, 6, 7, 8, 9, 10, 11, 12, 13, 14]}\n",
    "# param_RandomForest  = {'n_estimators': [0.1, 1, 10, 100, 100, 1000],    'max_depth'     : [3, 4, 5, 6, 7, 8, 9]}\n",
    "# param_SVC           = {'kernel'      : ['linear', 'rbf'],                            'C'           : [0.01, 0.1, 1, 10, 100, 1000]} \n",
    "\n",
    "# grid_search_DecisionTree = GridSearchCV(DecisionTreeClassifier(), param_DecisionTree, cv=5)\n",
    "# grid_search_RandomForest = GridSearchCV(RandomForestClassifier(), param_RandomForest, cv=5)\n",
    "# grid_search_SVC          = GridSearchCV(SVC(), param_SVC, cv=5)\n",
    "\n",
    "# grid_search_DecisionTree.fit(X_validate, y_validate)\n",
    "# grid_search_RandomForest.fit(X_validate, y_validate)\n",
    "# grid_search_SVC.fit(X_validate, y_validate)\n",
    "\n",
    "# print(f'Decision Tree    =>    Best Score : {round(grid_search_DecisionTree.best_score_ * 100, 2)}    Best Parameters :   {grid_search_DecisionTree.best_params_}  ')\n",
    "# print(f'Random Forest    =>    Best Score : {round(grid_search_RandomForest.best_score_ * 100, 2)}    Best Parameters :   {grid_search_RandomForest.best_params_}  ')\n",
    "# print(f'SVC              =>    Best Score : {round(grid_search_SVC.best_score_ * 100, 2)}    Best Parameters :   {grid_search_SVC.best_params_}  ')\n"
   ]
  },
  {
   "cell_type": "code",
   "execution_count": 12,
   "metadata": {},
   "outputs": [
    {
     "name": "stdout",
     "output_type": "stream",
     "text": [
      "[71.5, 82.0, 86.8, 90.9, 93.5, 96.2, 97.9, 98.8, 99.4, 99.7, 99.8, 99.9]\n",
      "[20.6, 32.2, 49.0, 49.0, 62.4, 49.6, 45.8, 49.4, 50.2, 46.4, 46.5, 47.2]\n"
     ]
    }
   ],
   "source": [
    "# max_depth = [3, 4, 5, 6, 7, 8, 9, 10, 11, 12, 13, 14]\n",
    "# acc_train = []\n",
    "# acc_validate = []\n",
    "\n",
    "\n",
    "# for depth in max_depth:\n",
    "\n",
    "\n",
    "#      model_decision_tree = DecisionTreeClassifier(max_depth=depth)\n",
    "\n",
    "\n",
    "#      model_decision_tree.fit(X_train, y_train)\n",
    "\n",
    "#      acc_tree_train      = round(model_decision_tree.score(X_train, y_train) * 100, 1)\n",
    "#      acc_tree_validate   = round(model_decision_tree.score(X_validate, y_validate) * 100, 1)\n",
    "\n",
    "#      acc_train.append(acc_tree_train)\n",
    "#      acc_validate.append(acc_tree_validate)\n",
    "\n",
    "# print(acc_train)\n",
    "# print(acc_validate)\n",
    "     "
   ]
  },
  {
   "cell_type": "markdown",
   "metadata": {},
   "source": [
    "# THREE FEATURES"
   ]
  },
  {
   "cell_type": "code",
   "execution_count": 81,
   "metadata": {},
   "outputs": [
    {
     "name": "stdout",
     "output_type": "stream",
     "text": [
      "Best Validation Parameters :  {'n_estimators': 100}\n",
      "Best Validation Score      :  0.5066120906801007\n",
      "Best Test  Score           :  0.5982960426785572\n"
     ]
    }
   ],
   "source": [
    "columns_features  =  ['android.sensor.magnetic_field#mean', 'android.sensor.gyroscope#mean',  'speed#mean']\n",
    "\n",
    "dt_train       = pd.read_csv('train.csv')\n",
    "dt_validate    = pd.read_csv('validation.csv')\n",
    "dt_test        = pd.read_csv('test.csv')\n",
    "\n",
    "data_train     = dt_train[columns_names]\n",
    "data_validate  = dt_validate[columns_names]\n",
    "data_test      = dt_test[columns_names]\n",
    "\n",
    "X_train        = data_train[columns_features]\n",
    "y_train        = data_train['target']\n",
    "\n",
    "X_validate     = data_validate[columns_features]\n",
    "y_validate     = data_validate['target']\n",
    "\n",
    "X_test         = data_test[columns_features]\n",
    "y_test         = data_test['target']\n",
    "\n",
    "\"\"\" STEP 1 and 2 \"\"\"\n",
    "\n",
    "best_score = 0\n",
    "\n",
    "for n_estimator in [ 500, 400, 800, 200, 100]:\n",
    "\n",
    "     \"\"\"Step 1\"\"\"\n",
    "     model_forest   = RandomForestClassifier(n_estimators=n_estimator)\n",
    "     model_forest.fit(X_train, y_train)\n",
    "\n",
    "     \"\"\"Step 2\"\"\"\n",
    "     score = model_forest.score(X_validate, y_validate)\n",
    "     if score > best_score:\n",
    "          best_score = score\n",
    "          best_parameters = {'n_estimators' : n_estimator}\n",
    "\n",
    "print('Best Validation Parameters : ', best_parameters)\n",
    "print('Best Validation Score      : ', best_score)\n",
    "\n",
    "\"\"\" Step 3\"\"\"\n",
    "model_forest_paraSetting = RandomForestClassifier(n_estimators=best_parameters['n_estimators'])\n",
    "model_forest_paraSetting.fit(X_train, y_train)\n",
    "score_paraSetting = model_forest_paraSetting.score(X_test, y_test)\n",
    "print('Best Test  Score           : ', score_paraSetting)\n"
   ]
  },
  {
   "cell_type": "code",
   "execution_count": 82,
   "metadata": {},
   "outputs": [
    {
     "name": "stdout",
     "output_type": "stream",
     "text": [
      "Best Validation Parameters :  {'n_estimators': 800}\n",
      "Best Validation Score      :  0.542191435768262\n",
      "Best Test  Score           :  0.2930965841229397\n"
     ]
    }
   ],
   "source": [
    "columns_features  = ['android.sensor.magnetic_field#mean', 'android.sensor.gyroscope#mean',   'android.sensor.game_rotation_vector#mean' ]\n",
    "\n",
    "\n",
    "dt_train       = pd.read_csv('train.csv')\n",
    "dt_validate    = pd.read_csv('validation.csv')\n",
    "dt_test        = pd.read_csv('test.csv')\n",
    "\n",
    "data_train     = dt_train[columns_names]\n",
    "data_validate  = dt_validate[columns_names]\n",
    "data_test      = dt_test[columns_names]\n",
    "\n",
    "X_train        = data_train[columns_features]\n",
    "y_train        = data_train['target']\n",
    "\n",
    "X_validate     = data_validate[columns_features]\n",
    "y_validate     = data_validate['target']\n",
    "\n",
    "X_test         = data_test[columns_features]\n",
    "y_test         = data_test['target']\n",
    "\n",
    "\"\"\" STEP 1 and 2 \"\"\"\n",
    "\n",
    "best_score = 0\n",
    "\n",
    "for n_estimator in [ 500, 400, 800, 200, 100]:\n",
    "\n",
    "     \"\"\"Step 1\"\"\"\n",
    "     model_forest   = RandomForestClassifier(n_estimators=n_estimator)\n",
    "     model_forest.fit(X_train, y_train)\n",
    "\n",
    "     \"\"\"Step 2\"\"\"\n",
    "     score = model_forest.score(X_validate, y_validate)\n",
    "     if score > best_score:\n",
    "          best_score = score\n",
    "          best_parameters = {'n_estimators' : n_estimator}\n",
    "\n",
    "print('Best Validation Parameters : ', best_parameters)\n",
    "print('Best Validation Score      : ', best_score)\n",
    "\n",
    "\"\"\" Step 3\"\"\"\n",
    "model_forest_paraSetting = RandomForestClassifier(n_estimators=best_parameters['n_estimators'])\n",
    "model_forest_paraSetting.fit(X_train, y_train)\n",
    "score_paraSetting = model_forest_paraSetting.score(X_test, y_test)\n",
    "print('Best Test  Score           : ', score_paraSetting)\n"
   ]
  },
  {
   "cell_type": "code",
   "execution_count": null,
   "metadata": {},
   "outputs": [],
   "source": []
  },
  {
   "cell_type": "markdown",
   "metadata": {},
   "source": [
    "# FOUR PARAMETERS"
   ]
  },
  {
   "cell_type": "code",
   "execution_count": 83,
   "metadata": {},
   "outputs": [
    {
     "name": "stdout",
     "output_type": "stream",
     "text": [
      "Best Validation Parameters :  {'n_estimators': 800}\n",
      "Best Validation Score      :  0.5029387069689337\n",
      "Best Test  Score           :  0.607134325981368\n"
     ]
    }
   ],
   "source": [
    "columns_features  =['android.sensor.magnetic_field#mean', 'android.sensor.gyroscope#mean',  'speed#mean', 'android.sensor.game_rotation_vector#mean' ]\n",
    "\n",
    "dt_train       = pd.read_csv('train.csv')\n",
    "dt_validate    = pd.read_csv('validation.csv')\n",
    "dt_test        = pd.read_csv('test.csv')\n",
    "\n",
    "data_train     = dt_train[columns_names]\n",
    "data_validate  = dt_validate[columns_names]\n",
    "data_test      = dt_test[columns_names]\n",
    "\n",
    "X_train        = data_train[columns_features]\n",
    "y_train        = data_train['target']\n",
    "\n",
    "X_validate     = data_validate[columns_features]\n",
    "y_validate     = data_validate['target']\n",
    "\n",
    "X_test         = data_test[columns_features]\n",
    "y_test         = data_test['target']\n",
    "\n",
    "\"\"\" STEP 1 and 2 \"\"\"\n",
    "\n",
    "best_score = 0\n",
    "\n",
    "for n_estimator in [ 500, 400, 800, 200, 100]:\n",
    "\n",
    "     \"\"\"Step 1\"\"\"\n",
    "     model_forest   = RandomForestClassifier(n_estimators=n_estimator)\n",
    "     model_forest.fit(X_train, y_train)\n",
    "\n",
    "     \"\"\"Step 2\"\"\"\n",
    "     score = model_forest.score(X_validate, y_validate)\n",
    "     if score > best_score:\n",
    "          best_score = score\n",
    "          best_parameters = {'n_estimators' : n_estimator}\n",
    "\n",
    "print('Best Validation Parameters : ', best_parameters)\n",
    "print('Best Validation Score      : ', best_score)\n",
    "\n",
    "\"\"\" Step 3\"\"\"\n",
    "model_forest_paraSetting = RandomForestClassifier(n_estimators=best_parameters['n_estimators'])\n",
    "model_forest_paraSetting.fit(X_train, y_train)\n",
    "score_paraSetting = model_forest_paraSetting.score(X_test, y_test)\n",
    "print('Best Test  Score           : ', score_paraSetting)\n"
   ]
  },
  {
   "cell_type": "markdown",
   "metadata": {},
   "source": [
    "# TWELVE FEATURES"
   ]
  },
  {
   "cell_type": "code",
   "execution_count": 84,
   "metadata": {},
   "outputs": [
    {
     "name": "stdout",
     "output_type": "stream",
     "text": [
      "Best Validation Parameters :  {'n_estimators': 400}\n",
      "Best Validation Score      :  0.5993912678421495\n",
      "Best Test  Score           :  0.5618281710327255\n"
     ]
    }
   ],
   "source": [
    "columns_features  =['android.sensor.accelerometer#mean', 'android.sensor.magnetic_field#mean', 'android.sensor.orientation#mean', 'android.sensor.gravity#mean', 'android.sensor.linear_acceleration#mean', 'android.sensor.gyroscope#mean', 'android.sensor.rotation_vector#mean', 'android.sensor.gyroscope_uncalibrated#mean', 'android.sensor.game_rotation_vector#mean', 'android.sensor.magnetic_field_uncalibrated#mean', 'sound#mean',  'speed#mean' ]\n",
    "\n",
    "dt_train       = pd.read_csv('train.csv')\n",
    "dt_validate    = pd.read_csv('validation.csv')\n",
    "dt_test        = pd.read_csv('test.csv')\n",
    "\n",
    "data_train     = dt_train[columns_names]\n",
    "data_validate  = dt_validate[columns_names]\n",
    "data_test      = dt_test[columns_names]\n",
    "\n",
    "X_train        = data_train[columns_features]\n",
    "y_train        = data_train['target']\n",
    "\n",
    "X_validate     = data_validate[columns_features]\n",
    "y_validate     = data_validate['target']\n",
    "\n",
    "X_test         = data_test[columns_features]\n",
    "y_test         = data_test['target']\n",
    "\n",
    "\"\"\" STEP 1 and 2 \"\"\"\n",
    "\n",
    "best_score = 0\n",
    "\n",
    "for n_estimator in [ 500, 400, 800, 200, 100]:\n",
    "\n",
    "     \"\"\"Step 1\"\"\"\n",
    "     model_forest   = RandomForestClassifier(n_estimators=n_estimator)\n",
    "     model_forest.fit(X_train, y_train)\n",
    "\n",
    "     \"\"\"Step 2\"\"\"\n",
    "     score = model_forest.score(X_validate, y_validate)\n",
    "     if score > best_score:\n",
    "          best_score = score\n",
    "          best_parameters = {'n_estimators' : n_estimator}\n",
    "\n",
    "print('Best Validation Parameters : ', best_parameters)\n",
    "print('Best Validation Score      : ', best_score)\n",
    "\n",
    "\"\"\" Step 3\"\"\"\n",
    "model_forest_paraSetting = RandomForestClassifier(n_estimators=best_parameters['n_estimators'])\n",
    "model_forest_paraSetting.fit(X_train, y_train)\n",
    "score_paraSetting = model_forest_paraSetting.score(X_test, y_test)\n",
    "print('Best Test  Score           : ', score_paraSetting)\n"
   ]
  },
  {
   "cell_type": "code",
   "execution_count": 52,
   "metadata": {},
   "outputs": [],
   "source": [
    "\n",
    "# \"\"\" Shuffle all DataFrame\"\"\"\n",
    "# dt_train = dt_train.sample(frac=1)\n",
    "# dt_validate = dt_validate.sample(frac=1)\n",
    "# dt_test = dt_test.sample(frac=1)\n",
    "\n",
    "# model_tree     = DecisionTreeClassifier()\n",
    "# model_forest   = RandomForestClassifier()\n",
    "\n",
    "# val_score_tree = cross_val_score(model_tree, X_train, y_train)\n",
    "# val_score_forest = cross_val_score(model_forest, X_train, y_train)\n",
    "\n",
    "# cross_val_tree   = cross_validate(model_tree, X_train, y_train, return_train_score=True, cv=5)\n",
    "# cross_val_forest = cross_validate(model_forest, X_train, y_train, return_train_score=True, cv=5)\n",
    "\n",
    "\n",
    "\n",
    "X_train        = data_train[columns_features]\n",
    "y_train        = data_train['target']\n",
    "\n",
    "X_validate     = data_validate[columns_features]\n",
    "y_validate     = data_validate['target']\n",
    "\n",
    "X_test         = data_test[columns_features]\n",
    "y_test         = data_test['target']\n",
    "\n",
    "model_tree     = DecisionTreeClassifier()\n",
    "model_forest   = RandomForestClassifier()\n",
    "\n",
    "\n",
    "model_tree.fit(X_train, y_train)\n",
    "model_forest.fit(X_train, y_train)\n",
    "\n",
    "test_acc_tree   = model_tree.score(X_test, y_test)\n",
    "test_acc_forest = model_forest.score(X_test, y_test)\n",
    "\n",
    "validate_acc_tree = model_tree.score(X_validate, y_validate)\n",
    "validate_acc_forest = model_forest.score(X_validate, y_validate)\n"
   ]
  },
  {
   "cell_type": "code",
   "execution_count": 53,
   "metadata": {},
   "outputs": [
    {
     "name": "stdout",
     "output_type": "stream",
     "text": [
      "Test Accuracy Tree   :  0.5480531889481647\n",
      "Test Accuracy Forest :  0.5932000955490087\n",
      "\n",
      "Validate Accuracy Tree   :  0.4922334172963896\n",
      "Validate Accuracy Forest :  0.4862510495382032\n"
     ]
    }
   ],
   "source": [
    "print('Test Accuracy Tree   : ', test_acc_tree)\n",
    "print('Test Accuracy Forest : ', test_acc_forest)\n",
    "print( )\n",
    "print('Validate Accuracy Tree   : ', validate_acc_tree)\n",
    "print('Validate Accuracy Forest : ', validate_acc_forest)"
   ]
  }
 ],
 "metadata": {
  "interpreter": {
   "hash": "97b91b6d5003af60c654b6abfe8ac1e5d274e52e67a717d7df64331168b10d1c"
  },
  "kernelspec": {
   "display_name": "Python 3.8.12 ('pz')",
   "language": "python",
   "name": "python3"
  },
  "language_info": {
   "codemirror_mode": {
    "name": "ipython",
    "version": 3
   },
   "file_extension": ".py",
   "mimetype": "text/x-python",
   "name": "python",
   "nbconvert_exporter": "python",
   "pygments_lexer": "ipython3",
   "version": "3.8.12"
  },
  "orig_nbformat": 4
 },
 "nbformat": 4,
 "nbformat_minor": 2
}
